{
 "cells": [
  {
   "cell_type": "markdown",
   "id": "41f48589",
   "metadata": {},
   "source": [
    "## 프로젝트 개요 \n",
    "=> 대출 신청자의 정보(소득, 신용점수, 고용 상태 등)를 바탕으로 대출 승인 여부(Approval)를 예측하는 분류 모델을 구축하고, 주요 영향을 미치는 요소들을 분석함.  \n",
    "\n",
    "---"
   ]
  },
  {
   "cell_type": "markdown",
   "id": "e4f96d39",
   "metadata": {},
   "source": [
    "# 데이터 준비\n",
    "=> 데이터셋은 지원자의 소득(Income),신용 점수(Credit Score),대출 금액(Loan Amount),  \n",
    " 부채 소득 비율(DTI Ratio), 고용여부(Employment Status) 등의 속성을 사용하여 대출 승인(Approval) 여부를 예측하는 데이터이다."
   ]
  },
  {
   "cell_type": "markdown",
   "id": "849f311e",
   "metadata": {},
   "source": [
    "- 수행 작업  \n",
    "=>불필요한 Text 열 제거  \n",
    "=>one-Hot-Encoding으로 수치\n",
    "\n",
    " 유형으로 변환(타겟 열 Employment_Status을 이진 값으로 변환)  \n",
    "=> input 데이터와 target 데이터를 나누어 넘파이 배열로 만듬"
   ]
  },
  {
   "cell_type": "code",
   "execution_count": 27,
   "id": "4f3f0cb0",
   "metadata": {},
   "outputs": [],
   "source": [
    "import pandas as pd\n",
    "import numpy as np\n",
    "\n",
    "data_url=\"C:\\\\Users\\\\채재헌\\\\machine_learning\\\\dataset\\\\loan_data.csv\"\n",
    "loan=pd.read_csv(data_url)"
   ]
  },
  {
   "cell_type": "code",
   "execution_count": 28,
   "id": "c5e0cf59",
   "metadata": {},
   "outputs": [
    {
     "data": {
      "text/html": [
       "<div>\n",
       "<style scoped>\n",
       "    .dataframe tbody tr th:only-of-type {\n",
       "        vertical-align: middle;\n",
       "    }\n",
       "\n",
       "    .dataframe tbody tr th {\n",
       "        vertical-align: top;\n",
       "    }\n",
       "\n",
       "    .dataframe thead th {\n",
       "        text-align: right;\n",
       "    }\n",
       "</style>\n",
       "<table border=\"1\" class=\"dataframe\">\n",
       "  <thead>\n",
       "    <tr style=\"text-align: right;\">\n",
       "      <th></th>\n",
       "      <th>Text</th>\n",
       "      <th>Income</th>\n",
       "      <th>Credit_Score</th>\n",
       "      <th>Loan_Amount</th>\n",
       "      <th>DTI_Ratio</th>\n",
       "      <th>Employment_Status</th>\n",
       "      <th>Approval</th>\n",
       "    </tr>\n",
       "  </thead>\n",
       "  <tbody>\n",
       "    <tr>\n",
       "      <th>0</th>\n",
       "      <td>I need a loan to pay for an international vaca...</td>\n",
       "      <td>26556</td>\n",
       "      <td>581</td>\n",
       "      <td>8314</td>\n",
       "      <td>79.26</td>\n",
       "      <td>employed</td>\n",
       "      <td>Rejected</td>\n",
       "    </tr>\n",
       "    <tr>\n",
       "      <th>1</th>\n",
       "      <td>I want to make home improvements like installi...</td>\n",
       "      <td>197392</td>\n",
       "      <td>389</td>\n",
       "      <td>111604</td>\n",
       "      <td>22.14</td>\n",
       "      <td>employed</td>\n",
       "      <td>Rejected</td>\n",
       "    </tr>\n",
       "    <tr>\n",
       "      <th>2</th>\n",
       "      <td>I need a loan for home renovation, including a...</td>\n",
       "      <td>44561</td>\n",
       "      <td>523</td>\n",
       "      <td>34118</td>\n",
       "      <td>45.44</td>\n",
       "      <td>employed</td>\n",
       "      <td>Rejected</td>\n",
       "    </tr>\n",
       "    <tr>\n",
       "      <th>3</th>\n",
       "      <td>I need funds to buy new furniture and applianc...</td>\n",
       "      <td>190363</td>\n",
       "      <td>729</td>\n",
       "      <td>118757</td>\n",
       "      <td>10.22</td>\n",
       "      <td>unemployed</td>\n",
       "      <td>Rejected</td>\n",
       "    </tr>\n",
       "    <tr>\n",
       "      <th>4</th>\n",
       "      <td>I need a loan to start a small business.</td>\n",
       "      <td>61853</td>\n",
       "      <td>732</td>\n",
       "      <td>19210</td>\n",
       "      <td>44.13</td>\n",
       "      <td>employed</td>\n",
       "      <td>Approved</td>\n",
       "    </tr>\n",
       "    <tr>\n",
       "      <th>5</th>\n",
       "      <td>I need a loan to repair my car after an accident.</td>\n",
       "      <td>108236</td>\n",
       "      <td>404</td>\n",
       "      <td>50797</td>\n",
       "      <td>10.24</td>\n",
       "      <td>employed</td>\n",
       "      <td>Rejected</td>\n",
       "    </tr>\n",
       "    <tr>\n",
       "      <th>6</th>\n",
       "      <td>I need financial help to cover maternity and d...</td>\n",
       "      <td>110165</td>\n",
       "      <td>570</td>\n",
       "      <td>61217</td>\n",
       "      <td>7.12</td>\n",
       "      <td>employed</td>\n",
       "      <td>Approved</td>\n",
       "    </tr>\n",
       "    <tr>\n",
       "      <th>7</th>\n",
       "      <td>I need money to open a small bookstore and caf챕.</td>\n",
       "      <td>40656</td>\n",
       "      <td>600</td>\n",
       "      <td>21267</td>\n",
       "      <td>113.63</td>\n",
       "      <td>unemployed</td>\n",
       "      <td>Rejected</td>\n",
       "    </tr>\n",
       "    <tr>\n",
       "      <th>8</th>\n",
       "      <td>I need a loan to install a security system at ...</td>\n",
       "      <td>38233</td>\n",
       "      <td>346</td>\n",
       "      <td>8467</td>\n",
       "      <td>126.42</td>\n",
       "      <td>unemployed</td>\n",
       "      <td>Rejected</td>\n",
       "    </tr>\n",
       "    <tr>\n",
       "      <th>9</th>\n",
       "      <td>I need a loan to cover emergency expenses afte...</td>\n",
       "      <td>81024</td>\n",
       "      <td>403</td>\n",
       "      <td>19217</td>\n",
       "      <td>36.92</td>\n",
       "      <td>unemployed</td>\n",
       "      <td>Rejected</td>\n",
       "    </tr>\n",
       "  </tbody>\n",
       "</table>\n",
       "</div>"
      ],
      "text/plain": [
       "                                                Text  Income  Credit_Score  \\\n",
       "0  I need a loan to pay for an international vaca...   26556           581   \n",
       "1  I want to make home improvements like installi...  197392           389   \n",
       "2  I need a loan for home renovation, including a...   44561           523   \n",
       "3  I need funds to buy new furniture and applianc...  190363           729   \n",
       "4           I need a loan to start a small business.   61853           732   \n",
       "5  I need a loan to repair my car after an accident.  108236           404   \n",
       "6  I need financial help to cover maternity and d...  110165           570   \n",
       "7   I need money to open a small bookstore and caf챕.   40656           600   \n",
       "8  I need a loan to install a security system at ...   38233           346   \n",
       "9  I need a loan to cover emergency expenses afte...   81024           403   \n",
       "\n",
       "   Loan_Amount  DTI_Ratio Employment_Status  Approval  \n",
       "0         8314      79.26          employed  Rejected  \n",
       "1       111604      22.14          employed  Rejected  \n",
       "2        34118      45.44          employed  Rejected  \n",
       "3       118757      10.22        unemployed  Rejected  \n",
       "4        19210      44.13          employed  Approved  \n",
       "5        50797      10.24          employed  Rejected  \n",
       "6        61217       7.12          employed  Approved  \n",
       "7        21267     113.63        unemployed  Rejected  \n",
       "8         8467     126.42        unemployed  Rejected  \n",
       "9        19217      36.92        unemployed  Rejected  "
      ]
     },
     "execution_count": 28,
     "metadata": {},
     "output_type": "execute_result"
    }
   ],
   "source": [
    "loan.head(10)"
   ]
  },
  {
   "cell_type": "code",
   "execution_count": 29,
   "id": "f162923c",
   "metadata": {},
   "outputs": [
    {
     "data": {
      "text/html": [
       "<div>\n",
       "<style scoped>\n",
       "    .dataframe tbody tr th:only-of-type {\n",
       "        vertical-align: middle;\n",
       "    }\n",
       "\n",
       "    .dataframe tbody tr th {\n",
       "        vertical-align: top;\n",
       "    }\n",
       "\n",
       "    .dataframe thead th {\n",
       "        text-align: right;\n",
       "    }\n",
       "</style>\n",
       "<table border=\"1\" class=\"dataframe\">\n",
       "  <thead>\n",
       "    <tr style=\"text-align: right;\">\n",
       "      <th></th>\n",
       "      <th>Income</th>\n",
       "      <th>Credit_Score</th>\n",
       "      <th>Loan_Amount</th>\n",
       "      <th>DTI_Ratio</th>\n",
       "      <th>Employment_Status</th>\n",
       "      <th>Approval</th>\n",
       "    </tr>\n",
       "  </thead>\n",
       "  <tbody>\n",
       "    <tr>\n",
       "      <th>0</th>\n",
       "      <td>26556</td>\n",
       "      <td>581</td>\n",
       "      <td>8314</td>\n",
       "      <td>79.26</td>\n",
       "      <td>employed</td>\n",
       "      <td>Rejected</td>\n",
       "    </tr>\n",
       "    <tr>\n",
       "      <th>1</th>\n",
       "      <td>197392</td>\n",
       "      <td>389</td>\n",
       "      <td>111604</td>\n",
       "      <td>22.14</td>\n",
       "      <td>employed</td>\n",
       "      <td>Rejected</td>\n",
       "    </tr>\n",
       "    <tr>\n",
       "      <th>2</th>\n",
       "      <td>44561</td>\n",
       "      <td>523</td>\n",
       "      <td>34118</td>\n",
       "      <td>45.44</td>\n",
       "      <td>employed</td>\n",
       "      <td>Rejected</td>\n",
       "    </tr>\n",
       "    <tr>\n",
       "      <th>3</th>\n",
       "      <td>190363</td>\n",
       "      <td>729</td>\n",
       "      <td>118757</td>\n",
       "      <td>10.22</td>\n",
       "      <td>unemployed</td>\n",
       "      <td>Rejected</td>\n",
       "    </tr>\n",
       "    <tr>\n",
       "      <th>4</th>\n",
       "      <td>61853</td>\n",
       "      <td>732</td>\n",
       "      <td>19210</td>\n",
       "      <td>44.13</td>\n",
       "      <td>employed</td>\n",
       "      <td>Approved</td>\n",
       "    </tr>\n",
       "    <tr>\n",
       "      <th>5</th>\n",
       "      <td>108236</td>\n",
       "      <td>404</td>\n",
       "      <td>50797</td>\n",
       "      <td>10.24</td>\n",
       "      <td>employed</td>\n",
       "      <td>Rejected</td>\n",
       "    </tr>\n",
       "    <tr>\n",
       "      <th>6</th>\n",
       "      <td>110165</td>\n",
       "      <td>570</td>\n",
       "      <td>61217</td>\n",
       "      <td>7.12</td>\n",
       "      <td>employed</td>\n",
       "      <td>Approved</td>\n",
       "    </tr>\n",
       "    <tr>\n",
       "      <th>7</th>\n",
       "      <td>40656</td>\n",
       "      <td>600</td>\n",
       "      <td>21267</td>\n",
       "      <td>113.63</td>\n",
       "      <td>unemployed</td>\n",
       "      <td>Rejected</td>\n",
       "    </tr>\n",
       "    <tr>\n",
       "      <th>8</th>\n",
       "      <td>38233</td>\n",
       "      <td>346</td>\n",
       "      <td>8467</td>\n",
       "      <td>126.42</td>\n",
       "      <td>unemployed</td>\n",
       "      <td>Rejected</td>\n",
       "    </tr>\n",
       "    <tr>\n",
       "      <th>9</th>\n",
       "      <td>81024</td>\n",
       "      <td>403</td>\n",
       "      <td>19217</td>\n",
       "      <td>36.92</td>\n",
       "      <td>unemployed</td>\n",
       "      <td>Rejected</td>\n",
       "    </tr>\n",
       "  </tbody>\n",
       "</table>\n",
       "</div>"
      ],
      "text/plain": [
       "   Income  Credit_Score  Loan_Amount  DTI_Ratio Employment_Status  Approval\n",
       "0   26556           581         8314      79.26          employed  Rejected\n",
       "1  197392           389       111604      22.14          employed  Rejected\n",
       "2   44561           523        34118      45.44          employed  Rejected\n",
       "3  190363           729       118757      10.22        unemployed  Rejected\n",
       "4   61853           732        19210      44.13          employed  Approved\n",
       "5  108236           404        50797      10.24          employed  Rejected\n",
       "6  110165           570        61217       7.12          employed  Approved\n",
       "7   40656           600        21267     113.63        unemployed  Rejected\n",
       "8   38233           346         8467     126.42        unemployed  Rejected\n",
       "9   81024           403        19217      36.92        unemployed  Rejected"
      ]
     },
     "execution_count": 29,
     "metadata": {},
     "output_type": "execute_result"
    }
   ],
   "source": [
    "loan= loan.drop(columns=[\"Text\"])\n",
    "loan.head(10)"
   ]
  },
  {
   "cell_type": "code",
   "execution_count": 30,
   "id": "04a08904",
   "metadata": {},
   "outputs": [
    {
     "data": {
      "text/html": [
       "<div>\n",
       "<style scoped>\n",
       "    .dataframe tbody tr th:only-of-type {\n",
       "        vertical-align: middle;\n",
       "    }\n",
       "\n",
       "    .dataframe tbody tr th {\n",
       "        vertical-align: top;\n",
       "    }\n",
       "\n",
       "    .dataframe thead th {\n",
       "        text-align: right;\n",
       "    }\n",
       "</style>\n",
       "<table border=\"1\" class=\"dataframe\">\n",
       "  <thead>\n",
       "    <tr style=\"text-align: right;\">\n",
       "      <th></th>\n",
       "      <th>Income</th>\n",
       "      <th>Credit_Score</th>\n",
       "      <th>Loan_Amount</th>\n",
       "      <th>DTI_Ratio</th>\n",
       "      <th>Employment_Status</th>\n",
       "      <th>Approval</th>\n",
       "    </tr>\n",
       "  </thead>\n",
       "  <tbody>\n",
       "    <tr>\n",
       "      <th>0</th>\n",
       "      <td>26556</td>\n",
       "      <td>581</td>\n",
       "      <td>8314</td>\n",
       "      <td>79.26</td>\n",
       "      <td>0</td>\n",
       "      <td>Rejected</td>\n",
       "    </tr>\n",
       "    <tr>\n",
       "      <th>1</th>\n",
       "      <td>197392</td>\n",
       "      <td>389</td>\n",
       "      <td>111604</td>\n",
       "      <td>22.14</td>\n",
       "      <td>0</td>\n",
       "      <td>Rejected</td>\n",
       "    </tr>\n",
       "    <tr>\n",
       "      <th>2</th>\n",
       "      <td>44561</td>\n",
       "      <td>523</td>\n",
       "      <td>34118</td>\n",
       "      <td>45.44</td>\n",
       "      <td>0</td>\n",
       "      <td>Rejected</td>\n",
       "    </tr>\n",
       "    <tr>\n",
       "      <th>3</th>\n",
       "      <td>190363</td>\n",
       "      <td>729</td>\n",
       "      <td>118757</td>\n",
       "      <td>10.22</td>\n",
       "      <td>1</td>\n",
       "      <td>Rejected</td>\n",
       "    </tr>\n",
       "    <tr>\n",
       "      <th>4</th>\n",
       "      <td>61853</td>\n",
       "      <td>732</td>\n",
       "      <td>19210</td>\n",
       "      <td>44.13</td>\n",
       "      <td>0</td>\n",
       "      <td>Approved</td>\n",
       "    </tr>\n",
       "    <tr>\n",
       "      <th>5</th>\n",
       "      <td>108236</td>\n",
       "      <td>404</td>\n",
       "      <td>50797</td>\n",
       "      <td>10.24</td>\n",
       "      <td>0</td>\n",
       "      <td>Rejected</td>\n",
       "    </tr>\n",
       "    <tr>\n",
       "      <th>6</th>\n",
       "      <td>110165</td>\n",
       "      <td>570</td>\n",
       "      <td>61217</td>\n",
       "      <td>7.12</td>\n",
       "      <td>0</td>\n",
       "      <td>Approved</td>\n",
       "    </tr>\n",
       "    <tr>\n",
       "      <th>7</th>\n",
       "      <td>40656</td>\n",
       "      <td>600</td>\n",
       "      <td>21267</td>\n",
       "      <td>113.63</td>\n",
       "      <td>1</td>\n",
       "      <td>Rejected</td>\n",
       "    </tr>\n",
       "    <tr>\n",
       "      <th>8</th>\n",
       "      <td>38233</td>\n",
       "      <td>346</td>\n",
       "      <td>8467</td>\n",
       "      <td>126.42</td>\n",
       "      <td>1</td>\n",
       "      <td>Rejected</td>\n",
       "    </tr>\n",
       "    <tr>\n",
       "      <th>9</th>\n",
       "      <td>81024</td>\n",
       "      <td>403</td>\n",
       "      <td>19217</td>\n",
       "      <td>36.92</td>\n",
       "      <td>1</td>\n",
       "      <td>Rejected</td>\n",
       "    </tr>\n",
       "  </tbody>\n",
       "</table>\n",
       "</div>"
      ],
      "text/plain": [
       "   Income  Credit_Score  Loan_Amount  DTI_Ratio  Employment_Status  Approval\n",
       "0   26556           581         8314      79.26                  0  Rejected\n",
       "1  197392           389       111604      22.14                  0  Rejected\n",
       "2   44561           523        34118      45.44                  0  Rejected\n",
       "3  190363           729       118757      10.22                  1  Rejected\n",
       "4   61853           732        19210      44.13                  0  Approved\n",
       "5  108236           404        50797      10.24                  0  Rejected\n",
       "6  110165           570        61217       7.12                  0  Approved\n",
       "7   40656           600        21267     113.63                  1  Rejected\n",
       "8   38233           346         8467     126.42                  1  Rejected\n",
       "9   81024           403        19217      36.92                  1  Rejected"
      ]
     },
     "execution_count": 30,
     "metadata": {},
     "output_type": "execute_result"
    }
   ],
   "source": [
    "# - one-Hot Encoding으로 수치 유형으로 변환  \n",
    "# 타겟 열 Employment_Status을 이진 값으로 변환\n",
    "loan[\"Employment_Status\"]=loan[\"Employment_Status\"].map({\"employed\":0,\"unemployed\":1})\n",
    "\n",
    "\n",
    "# 결과 확인\n",
    "loan.head(10)"
   ]
  },
  {
   "cell_type": "code",
   "execution_count": 31,
   "id": "26e87b5b",
   "metadata": {},
   "outputs": [],
   "source": [
    "loan_input=loan[[\"Income\",\"Credit_Score\",\"Loan_Amount\",\"DTI_Ratio\",\"Employment_Status\"]] ## input 데이터 설정\n",
    "loan_target=loan[\"Approval\"] # 타겟 데이터 설정"
   ]
  },
  {
   "cell_type": "code",
   "execution_count": 32,
   "id": "d9f493bb",
   "metadata": {},
   "outputs": [
    {
     "data": {
      "text/plain": [
       "0    Rejected\n",
       "1    Rejected\n",
       "2    Rejected\n",
       "3    Rejected\n",
       "4    Approved\n",
       "Name: Approval, dtype: object"
      ]
     },
     "execution_count": 32,
     "metadata": {},
     "output_type": "execute_result"
    }
   ],
   "source": [
    "loan_target[:5]"
   ]
  },
  {
   "cell_type": "code",
   "execution_count": 33,
   "id": "4557e5ba",
   "metadata": {},
   "outputs": [
    {
     "data": {
      "text/plain": [
       "pandas.core.frame.DataFrame"
      ]
     },
     "execution_count": 33,
     "metadata": {},
     "output_type": "execute_result"
    }
   ],
   "source": [
    "type(loan_input)"
   ]
  },
  {
   "cell_type": "code",
   "execution_count": 34,
   "id": "a6d3e6ff",
   "metadata": {},
   "outputs": [],
   "source": [
    "loan_target=loan_target.to_numpy()\n",
    "loan_input=loan_input.to_numpy()"
   ]
  },
  {
   "cell_type": "code",
   "execution_count": 35,
   "id": "60cb8599",
   "metadata": {},
   "outputs": [
    {
     "data": {
      "text/plain": [
       "numpy.ndarray"
      ]
     },
     "execution_count": 35,
     "metadata": {},
     "output_type": "execute_result"
    }
   ],
   "source": [
    "type(loan_input)"
   ]
  },
  {
   "cell_type": "code",
   "execution_count": 36,
   "id": "6bc95804",
   "metadata": {},
   "outputs": [
    {
     "data": {
      "text/plain": [
       "numpy.ndarray"
      ]
     },
     "execution_count": 36,
     "metadata": {},
     "output_type": "execute_result"
    }
   ],
   "source": [
    "type(loan_target)"
   ]
  },
  {
   "cell_type": "markdown",
   "id": "ccc752f5",
   "metadata": {},
   "source": [
    "---\n",
    "\n",
    "# 데이터 분할\n",
    "\n",
    "- 수행 작업  \n",
    "=> 훈련데이터와 테스트 데이터로  input 값과 target 값으로 나눔"
   ]
  },
  {
   "cell_type": "code",
   "execution_count": 37,
   "id": "2d8cf032",
   "metadata": {},
   "outputs": [],
   "source": [
    "from sklearn.model_selection import train_test_split"
   ]
  },
  {
   "cell_type": "code",
   "execution_count": 38,
   "id": "a582c997",
   "metadata": {},
   "outputs": [],
   "source": [
    "train_input,test_input,train_target,test_target=train_test_split(loan_input,loan_target,random_state=42)"
   ]
  },
  {
   "cell_type": "markdown",
   "id": "f1d84e54",
   "metadata": {},
   "source": [
    "--- \n",
    "\n",
    "# 데이터 스케일링\n",
    "\n",
    "- 수행 작업  \n",
    "=>해당 훈련데이터와 테스트 데이터를 나눈 값을 스케일링 해준다."
   ]
  },
  {
   "cell_type": "code",
   "execution_count": 39,
   "id": "faf251f1",
   "metadata": {},
   "outputs": [],
   "source": [
    "from sklearn.preprocessing import StandardScaler\n",
    "\n",
    "ss=StandardScaler()\n",
    "\n",
    "ss.fit(train_input)\n",
    "\n",
    "train_scaled=ss.transform(train_input)\n",
    "test_scaled=ss.transform(test_input)"
   ]
  },
  {
   "cell_type": "code",
   "execution_count": 40,
   "id": "e260aa22",
   "metadata": {},
   "outputs": [
    {
     "data": {
      "text/plain": [
       "array([[ 0.44466921,  0.93752667,  0.33114045, -0.01307517,  1.00144549],\n",
       "       [ 0.31674229, -1.64311454,  0.84467927, -0.08792399,  1.00144549],\n",
       "       [-0.54148815,  1.68654205,  0.58012984, -0.44948707,  1.00144549],\n",
       "       [ 0.45337435,  1.01935188,  1.41887636, -0.72166458, -0.9985566 ],\n",
       "       [ 0.90542279,  0.02486088,  1.90466021, -0.50515974,  1.00144549]])"
      ]
     },
     "execution_count": 40,
     "metadata": {},
     "output_type": "execute_result"
    }
   ],
   "source": [
    "train_scaled[:5]"
   ]
  },
  {
   "cell_type": "markdown",
   "id": "b49e8494",
   "metadata": {},
   "source": [
    "---"
   ]
  },
  {
   "cell_type": "markdown",
   "id": "b2386cba",
   "metadata": {},
   "source": [
    "\n",
    "\n",
    "# SGDClassifier를 사용하여 모델링  \n",
    "\n",
    "\n",
    "1. 수행 작업 \n",
    "\n",
    "1) 기본 SGDClassifier로 간단한 학습 및 평가한다.\n",
    "2) partial_fit()을 활용한 반복 학습(에포크 가반 학습)한다.\n",
    "3) 정확도 변화룰 시각화한다.\n",
    "4) 최종 모델(max_iter=50) 학습 및 평가\n",
    "\n",
    "\n"
   ]
  },
  {
   "cell_type": "markdown",
   "id": "84808c81",
   "metadata": {},
   "source": [
    "---"
   ]
  },
  {
   "cell_type": "markdown",
   "id": "3141cd8f",
   "metadata": {},
   "source": [
    "### 기본 SGDClassifier로 간단한 학습 및 평가한다.\n",
    "\n",
    "1) 기본 학습 결과\n",
    "\n",
    "train acc: 0.9265555555555556  \n",
    "test acc: 0.9316666666666666  \n",
    "=> 10회 반복으로 빠르게 학습시킨 결과 과적합 없이 양호한 정확도를 보였음.  \n",
    "=> 하지만 충분히 수렴하지 않은 상태일 가능성이 있으므로 추가 반복 필요성이 제기되었다."
   ]
  },
  {
   "cell_type": "code",
   "execution_count": 41,
   "id": "fb1db268",
   "metadata": {},
   "outputs": [
    {
     "name": "stdout",
     "output_type": "stream",
     "text": [
      "0.9265555555555556\n",
      "0.9316666666666666\n"
     ]
    },
    {
     "name": "stderr",
     "output_type": "stream",
     "text": [
      "c:\\Anaconda\\envs\\mlbasic\\Lib\\site-packages\\sklearn\\linear_model\\_stochastic_gradient.py:738: ConvergenceWarning: Maximum number of iteration reached before convergence. Consider increasing max_iter to improve the fit.\n",
      "  warnings.warn(\n"
     ]
    }
   ],
   "source": [
    "from sklearn.linear_model import SGDClassifier\n",
    "\n",
    "sc=SGDClassifier(loss=\"log_loss\",max_iter=10,random_state=42)\n",
    "sc.fit(train_scaled,train_target)\n",
    "\n",
    "print(sc.score(train_scaled,train_target))\n",
    "print(sc.score(test_scaled,test_target))"
   ]
  },
  {
   "cell_type": "markdown",
   "id": "0de95659",
   "metadata": {},
   "source": [
    "---"
   ]
  },
  {
   "cell_type": "markdown",
   "id": "2a6fbe91",
   "metadata": {},
   "source": [
    "### partial_fit()을 통한 300 에포크 반복 학습 결과 및 시각화 분석\n",
    "\n",
    "2) partial_fit()을 통한 300 에포크 반복 학습 결과\n",
    "\n",
    "=> 에포크마다 학습 및 테스트 정확도 변화 시각화로 확인하였다.\n",
    "\n",
    "- 분석 내용:\n",
    "- 학습 초기에는 train/test 정확도가 급격히 상승하며, 모델이 빠르게 학습됨\n",
    "- 학습 100~150 에포크 이후부터 정확도 변화가 미세해지고 성능이 수렴해진다.\n",
    "- 학습 110 에포크에는 과적합 없이 train/test 정확도가 거의 유사한 수준으로 안정화된다.\n",
    "- 전반적으로 학습 안정성이 양호하고, 성능 유지력이 우수하다.\n"
   ]
  },
  {
   "cell_type": "code",
   "execution_count": 42,
   "id": "0d63d70f",
   "metadata": {},
   "outputs": [],
   "source": [
    "sc=SGDClassifier(loss='log_loss',random_state=42)\n",
    "\n",
    "train_score=[]\n",
    "test_score=[]\n",
    "\n",
    "classes=np.unique(train_target)\n",
    "\n",
    "\n",
    "for _ in range(300):\n",
    "    sc.partial_fit(train_scaled, train_target, classes=classes)\n",
    "    train_score.append(sc.score(train_scaled, train_target))\n",
    "    test_score.append(sc.score(test_scaled, test_target))"
   ]
  },
  {
   "cell_type": "code",
   "execution_count": 43,
   "id": "5842a25c",
   "metadata": {},
   "outputs": [
    {
     "data": {
      "image/png": "[encoded data removed]",
      "text/plain": [
       "<Figure size 640x480 with 1 Axes>"
      ]
     },
     "metadata": {},
     "output_type": "display_data"
    }
   ],
   "source": [
    "# 시각화\n",
    "import matplotlib.pyplot as plt\n",
    "\n",
    "plt.plot(train_score, label='train')\n",
    "plt.plot(test_score, label='test',color=\"orange\")\n",
    "plt.xlabel('epoch')\n",
    "plt.ylabel('accuracy')\n",
    "plt.legend()\n",
    "plt.show()"
   ]
  },
  {
   "cell_type": "markdown",
   "id": "b9873558",
   "metadata": {},
   "source": [
    "\n",
    "\n",
    "---"
   ]
  },
  {
   "cell_type": "markdown",
   "id": "9cb2b62b",
   "metadata": {},
   "source": [
    "### 최종 학습 결과\n",
    "\n",
    "* 결과\n",
    "\n",
    "    train acc: 0.9294444444444444    \n",
    "    test acc : 0.9303333333333333  \n",
    "\n",
    " 반복 학습 결과를 반영하여  max_iter=110으로 모델을 훈련한 경우,  \n",
    " 안정적으로 수렴되고 최적의 정확도를 기록함을 알 수 있다.\n"
   ]
  },
  {
   "cell_type": "code",
   "execution_count": 44,
   "id": "b3e71ff5",
   "metadata": {},
   "outputs": [
    {
     "name": "stdout",
     "output_type": "stream",
     "text": [
      "0.9294444444444444\n",
      "0.9303333333333333 \n",
      "\n"
     ]
    }
   ],
   "source": [
    "from sklearn.linear_model import SGDClassifier\n",
    "train_score=[]\n",
    "test_score=[]\n",
    "\n",
    "classes=np.unique(train_target)\n",
    "\n",
    "lr=SGDClassifier(loss=\"log_loss\",max_iter=110,tol=None,random_state=42)\n",
    "lr.fit(train_scaled,train_target)\n",
    "print(lr.score(train_scaled,train_target))\n",
    "print(lr.score(test_scaled,test_target),\"\\n\")\n"
   ]
  },
  {
   "cell_type": "markdown",
   "id": "709d9a40",
   "metadata": {},
   "source": [
    "---"
   ]
  },
  {
   "cell_type": "markdown",
   "id": "3b991bdb",
   "metadata": {},
   "source": [
    "### 모델링 결과 및 성과 지표\n",
    "\n",
    "* Accuracy: 0.9306666666666666\n",
    "* Precision: 0.9597222222222223\n",
    "* Recall: 0.9578217821782178\n",
    "* F1 Score: 0.9587710604558969\n",
    "\n",
    "=> 참고: pos_label=\"Rejected\"로 설정하여 \"Rejected\" 클래스의 예측 성과를 집중 평가함"
   ]
  },
  {
   "cell_type": "code",
   "execution_count": 45,
   "id": "894d272b",
   "metadata": {},
   "outputs": [
    {
     "name": "stdout",
     "output_type": "stream",
     "text": [
      "Accuracy: 0.9306666666666666\n",
      "Precision: 0.9597222222222223\n",
      "Recall: 0.9578217821782178\n",
      "F1 Score: 0.9587710604558969\n"
     ]
    }
   ],
   "source": [
    "from sklearn.metrics import accuracy_score,precision_score,recall_score,f1_score\n",
    "\n",
    "pred=sc.predict(test_scaled)\n",
    "\n",
    "acc=accuracy_score(test_target,pred)\n",
    "precision = precision_score(test_target, pred, pos_label=\"Rejected\")\n",
    "recall = recall_score(test_target, pred, pos_label=\"Rejected\")\n",
    "f1 = f1_score(test_target, pred, pos_label=\"Rejected\")\n",
    "\n",
    "print(\"Accuracy:\", acc)\n",
    "print(\"Precision:\",precision)\n",
    "print(\"Recall:\",recall)\n",
    "print(\"F1 Score:\",f1)\n"
   ]
  },
  {
   "cell_type": "markdown",
   "id": "b3204bc1",
   "metadata": {},
   "source": [
    "---"
   ]
  },
  {
   "cell_type": "markdown",
   "id": "c5e05e1d",
   "metadata": {},
   "source": [
    "\n",
    "## 1. 성과에 영향을 미친 주요 요소 분석\n",
    "\n",
    "### 1) 모델 성능 분석\n",
    "**정확도 93.06%**로 대부분의 샘플을 올바르게 예측하였다.\n",
    "\n",
    "**정밀도(95.9%)**와 재현율(97.5%) 모두 높게 나타나, \"Rejected\" 샘플을 잘못 예측하거나 놓치는 경우가 매우 적었다.\n",
    "\n",
    "F1-Score가 0.95으로, Precision과 Recall 간의 균형이 매우 우수한것을 볼 수 있다.\n",
    "\n",
    "### 2) 중요한 영향 요소\n",
    "\n",
    "* SGDClassifier는 확률적 경사 하강법(Stochastic Gradient Descent) 기반으로 빠른 학습이 가능하며, 특히 대규모 데이터에서 효율적이다.\n",
    "\n",
    "* StandardScaler를 통한 정규화가 모델의 수렴과 예측 정확도 향상에 큰 역할을 했다.\n",
    "\n",
    "* SGD는 하이퍼파라미터 튜닝에 민감하지만, 이번 분석에서는 기본값으로도 높은 성능을 기록하였다.\n",
    "\n",
    "* 분류 기준인 \"Rejected\" 라벨의 불균형 여부가 성능에 영향을 미칠 수 있지만, 모델이 해당 클래스를 잘 예측함으로써 신뢰도 높은 결과를 도출하였다.\n",
    "\n",
    "\n",
    "\n",
    "\n",
    "\n",
    "## 2. 결론\n",
    "\n",
    "SGDClassifier는 간단하면서도 효율적인 분류 모델로, 본 데이터셋에서 \"Rejected\" 클래스를 효과적으로 예측하였다. 재현율과 정밀도가 모두 높아 실제 업무(예: 신청 거절 자동 분류 등)에 활용 가능성이 높으며, 향후 더 다양한 하이퍼파라미터 튜닝과 모델 비교를 통해 성능을 더욱 향상시킬 수 있다.\n",
    "\n",
    "\n",
    "\n",
    "\n"
   ]
  }
 ],
 "metadata": {
  "kernelspec": {
   "display_name": "mlbasic",
   "language": "python",
   "name": "python3"
  },
  "language_info": {
   "codemirror_mode": {
    "name": "ipython",
    "version": 3
   },
   "file_extension": ".py",
   "mimetype": "text/x-python",
   "name": "python",
   "nbconvert_exporter": "python",
   "pygments_lexer": "ipython3",
   "version": "3.12.9"
  }
 },
 "nbformat": 4,
 "nbformat_minor": 5
}
