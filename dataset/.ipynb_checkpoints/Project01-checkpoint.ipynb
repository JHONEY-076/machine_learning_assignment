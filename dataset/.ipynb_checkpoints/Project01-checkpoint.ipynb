{
 "cells": [
  {
   "cell_type": "markdown",
   "id": "41f48589",
   "metadata": {},
   "source": [
    "## 프로젝트 개요 \n",
    "\n",
    "=> 대출 신청자의 정보(소득, 신용점수, 고용 상태 등)를 바탕으로 대출 승인 여부(Approval)를 예측하는 분류 모델을 구축하고, 주요 영향을 미치는 요소들을 분석함.\n",
    "\n",
    "---"
   ]
  },
  {
   "cell_type": "markdown",
   "id": "e4f96d39",
   "metadata": {},
   "source": [
    "# 데이터 준비\n",
    "=> 데이터셋은 지원자의 소득(Income),신용 점수(Credit Score),대출 금액(Loan Amount),  \n",
    " 부채 소득 비율(DTI Ratio), 고용여부(Employment Status) 등의 속성을 사용하여 대출 승인(Approval) 여부를 예측하는 데이터이다."
   ]
  },
  {
   "cell_type": "markdown",
   "id": "849f311e",
   "metadata": {},
   "source": [
    "- 수행 작업  \n",
    "=>불필요한 Text 열 제거  \n",
    "=>one-Hot-Encoding으로 수치\n",
    "\n",
    " 유형으로 변환(타겟 열 Employment_Status을 이진 값으로 변환)  \n",
    "=> input 데이터와 target 데이터를 나누어 넘파이 배열로 만듬"
   ]
  },
  {
   "cell_type": "code",
   "execution_count": 41,
   "id": "4f3f0cb0",
   "metadata": {},
   "outputs": [],
   "source": [
    "import pandas as pd\n",
    "\n",
    "data_url=\"C:\\\\Users\\\\채재헌\\\\machine_learning\\\\dataset\\\\loan_data.csv\"\n",
    "loan=pd.read_csv(data_url)"
   ]
  },
  {
   "cell_type": "code",
   "execution_count": 42,
   "id": "c5e0cf59",
   "metadata": {},
   "outputs": [
    {
     "data": {
      "text/html": [
       "<div>\n",
       "<style scoped>\n",
       "    .dataframe tbody tr th:only-of-type {\n",
       "        vertical-align: middle;\n",
       "    }\n",
       "\n",
       "    .dataframe tbody tr th {\n",
       "        vertical-align: top;\n",
       "    }\n",
       "\n",
       "    .dataframe thead th {\n",
       "        text-align: right;\n",
       "    }\n",
       "</style>\n",
       "<table border=\"1\" class=\"dataframe\">\n",
       "  <thead>\n",
       "    <tr style=\"text-align: right;\">\n",
       "      <th></th>\n",
       "      <th>Text</th>\n",
       "      <th>Income</th>\n",
       "      <th>Credit_Score</th>\n",
       "      <th>Loan_Amount</th>\n",
       "      <th>DTI_Ratio</th>\n",
       "      <th>Employment_Status</th>\n",
       "      <th>Approval</th>\n",
       "    </tr>\n",
       "  </thead>\n",
       "  <tbody>\n",
       "    <tr>\n",
       "      <th>0</th>\n",
       "      <td>I need a loan to pay for an international vaca...</td>\n",
       "      <td>26556</td>\n",
       "      <td>581</td>\n",
       "      <td>8314</td>\n",
       "      <td>79.26</td>\n",
       "      <td>employed</td>\n",
       "      <td>Rejected</td>\n",
       "    </tr>\n",
       "    <tr>\n",
       "      <th>1</th>\n",
       "      <td>I want to make home improvements like installi...</td>\n",
       "      <td>197392</td>\n",
       "      <td>389</td>\n",
       "      <td>111604</td>\n",
       "      <td>22.14</td>\n",
       "      <td>employed</td>\n",
       "      <td>Rejected</td>\n",
       "    </tr>\n",
       "    <tr>\n",
       "      <th>2</th>\n",
       "      <td>I need a loan for home renovation, including a...</td>\n",
       "      <td>44561</td>\n",
       "      <td>523</td>\n",
       "      <td>34118</td>\n",
       "      <td>45.44</td>\n",
       "      <td>employed</td>\n",
       "      <td>Rejected</td>\n",
       "    </tr>\n",
       "    <tr>\n",
       "      <th>3</th>\n",
       "      <td>I need funds to buy new furniture and applianc...</td>\n",
       "      <td>190363</td>\n",
       "      <td>729</td>\n",
       "      <td>118757</td>\n",
       "      <td>10.22</td>\n",
       "      <td>unemployed</td>\n",
       "      <td>Rejected</td>\n",
       "    </tr>\n",
       "    <tr>\n",
       "      <th>4</th>\n",
       "      <td>I need a loan to start a small business.</td>\n",
       "      <td>61853</td>\n",
       "      <td>732</td>\n",
       "      <td>19210</td>\n",
       "      <td>44.13</td>\n",
       "      <td>employed</td>\n",
       "      <td>Approved</td>\n",
       "    </tr>\n",
       "    <tr>\n",
       "      <th>5</th>\n",
       "      <td>I need a loan to repair my car after an accident.</td>\n",
       "      <td>108236</td>\n",
       "      <td>404</td>\n",
       "      <td>50797</td>\n",
       "      <td>10.24</td>\n",
       "      <td>employed</td>\n",
       "      <td>Rejected</td>\n",
       "    </tr>\n",
       "    <tr>\n",
       "      <th>6</th>\n",
       "      <td>I need financial help to cover maternity and d...</td>\n",
       "      <td>110165</td>\n",
       "      <td>570</td>\n",
       "      <td>61217</td>\n",
       "      <td>7.12</td>\n",
       "      <td>employed</td>\n",
       "      <td>Approved</td>\n",
       "    </tr>\n",
       "    <tr>\n",
       "      <th>7</th>\n",
       "      <td>I need money to open a small bookstore and caf챕.</td>\n",
       "      <td>40656</td>\n",
       "      <td>600</td>\n",
       "      <td>21267</td>\n",
       "      <td>113.63</td>\n",
       "      <td>unemployed</td>\n",
       "      <td>Rejected</td>\n",
       "    </tr>\n",
       "    <tr>\n",
       "      <th>8</th>\n",
       "      <td>I need a loan to install a security system at ...</td>\n",
       "      <td>38233</td>\n",
       "      <td>346</td>\n",
       "      <td>8467</td>\n",
       "      <td>126.42</td>\n",
       "      <td>unemployed</td>\n",
       "      <td>Rejected</td>\n",
       "    </tr>\n",
       "    <tr>\n",
       "      <th>9</th>\n",
       "      <td>I need a loan to cover emergency expenses afte...</td>\n",
       "      <td>81024</td>\n",
       "      <td>403</td>\n",
       "      <td>19217</td>\n",
       "      <td>36.92</td>\n",
       "      <td>unemployed</td>\n",
       "      <td>Rejected</td>\n",
       "    </tr>\n",
       "  </tbody>\n",
       "</table>\n",
       "</div>"
      ],
      "text/plain": [
       "                                                Text  Income  Credit_Score  \\\n",
       "0  I need a loan to pay for an international vaca...   26556           581   \n",
       "1  I want to make home improvements like installi...  197392           389   \n",
       "2  I need a loan for home renovation, including a...   44561           523   \n",
       "3  I need funds to buy new furniture and applianc...  190363           729   \n",
       "4           I need a loan to start a small business.   61853           732   \n",
       "5  I need a loan to repair my car after an accident.  108236           404   \n",
       "6  I need financial help to cover maternity and d...  110165           570   \n",
       "7   I need money to open a small bookstore and caf챕.   40656           600   \n",
       "8  I need a loan to install a security system at ...   38233           346   \n",
       "9  I need a loan to cover emergency expenses afte...   81024           403   \n",
       "\n",
       "   Loan_Amount  DTI_Ratio Employment_Status  Approval  \n",
       "0         8314      79.26          employed  Rejected  \n",
       "1       111604      22.14          employed  Rejected  \n",
       "2        34118      45.44          employed  Rejected  \n",
       "3       118757      10.22        unemployed  Rejected  \n",
       "4        19210      44.13          employed  Approved  \n",
       "5        50797      10.24          employed  Rejected  \n",
       "6        61217       7.12          employed  Approved  \n",
       "7        21267     113.63        unemployed  Rejected  \n",
       "8         8467     126.42        unemployed  Rejected  \n",
       "9        19217      36.92        unemployed  Rejected  "
      ]
     },
     "execution_count": 42,
     "metadata": {},
     "output_type": "execute_result"
    }
   ],
   "source": [
    "loan.head(10)"
   ]
  },
  {
   "cell_type": "code",
   "execution_count": 43,
   "id": "f162923c",
   "metadata": {},
   "outputs": [
    {
     "data": {
      "text/html": [
       "<div>\n",
       "<style scoped>\n",
       "    .dataframe tbody tr th:only-of-type {\n",
       "        vertical-align: middle;\n",
       "    }\n",
       "\n",
       "    .dataframe tbody tr th {\n",
       "        vertical-align: top;\n",
       "    }\n",
       "\n",
       "    .dataframe thead th {\n",
       "        text-align: right;\n",
       "    }\n",
       "</style>\n",
       "<table border=\"1\" class=\"dataframe\">\n",
       "  <thead>\n",
       "    <tr style=\"text-align: right;\">\n",
       "      <th></th>\n",
       "      <th>Income</th>\n",
       "      <th>Credit_Score</th>\n",
       "      <th>Loan_Amount</th>\n",
       "      <th>DTI_Ratio</th>\n",
       "      <th>Employment_Status</th>\n",
       "      <th>Approval</th>\n",
       "    </tr>\n",
       "  </thead>\n",
       "  <tbody>\n",
       "    <tr>\n",
       "      <th>0</th>\n",
       "      <td>26556</td>\n",
       "      <td>581</td>\n",
       "      <td>8314</td>\n",
       "      <td>79.26</td>\n",
       "      <td>employed</td>\n",
       "      <td>Rejected</td>\n",
       "    </tr>\n",
       "    <tr>\n",
       "      <th>1</th>\n",
       "      <td>197392</td>\n",
       "      <td>389</td>\n",
       "      <td>111604</td>\n",
       "      <td>22.14</td>\n",
       "      <td>employed</td>\n",
       "      <td>Rejected</td>\n",
       "    </tr>\n",
       "    <tr>\n",
       "      <th>2</th>\n",
       "      <td>44561</td>\n",
       "      <td>523</td>\n",
       "      <td>34118</td>\n",
       "      <td>45.44</td>\n",
       "      <td>employed</td>\n",
       "      <td>Rejected</td>\n",
       "    </tr>\n",
       "    <tr>\n",
       "      <th>3</th>\n",
       "      <td>190363</td>\n",
       "      <td>729</td>\n",
       "      <td>118757</td>\n",
       "      <td>10.22</td>\n",
       "      <td>unemployed</td>\n",
       "      <td>Rejected</td>\n",
       "    </tr>\n",
       "    <tr>\n",
       "      <th>4</th>\n",
       "      <td>61853</td>\n",
       "      <td>732</td>\n",
       "      <td>19210</td>\n",
       "      <td>44.13</td>\n",
       "      <td>employed</td>\n",
       "      <td>Approved</td>\n",
       "    </tr>\n",
       "    <tr>\n",
       "      <th>5</th>\n",
       "      <td>108236</td>\n",
       "      <td>404</td>\n",
       "      <td>50797</td>\n",
       "      <td>10.24</td>\n",
       "      <td>employed</td>\n",
       "      <td>Rejected</td>\n",
       "    </tr>\n",
       "    <tr>\n",
       "      <th>6</th>\n",
       "      <td>110165</td>\n",
       "      <td>570</td>\n",
       "      <td>61217</td>\n",
       "      <td>7.12</td>\n",
       "      <td>employed</td>\n",
       "      <td>Approved</td>\n",
       "    </tr>\n",
       "    <tr>\n",
       "      <th>7</th>\n",
       "      <td>40656</td>\n",
       "      <td>600</td>\n",
       "      <td>21267</td>\n",
       "      <td>113.63</td>\n",
       "      <td>unemployed</td>\n",
       "      <td>Rejected</td>\n",
       "    </tr>\n",
       "    <tr>\n",
       "      <th>8</th>\n",
       "      <td>38233</td>\n",
       "      <td>346</td>\n",
       "      <td>8467</td>\n",
       "      <td>126.42</td>\n",
       "      <td>unemployed</td>\n",
       "      <td>Rejected</td>\n",
       "    </tr>\n",
       "    <tr>\n",
       "      <th>9</th>\n",
       "      <td>81024</td>\n",
       "      <td>403</td>\n",
       "      <td>19217</td>\n",
       "      <td>36.92</td>\n",
       "      <td>unemployed</td>\n",
       "      <td>Rejected</td>\n",
       "    </tr>\n",
       "  </tbody>\n",
       "</table>\n",
       "</div>"
      ],
      "text/plain": [
       "   Income  Credit_Score  Loan_Amount  DTI_Ratio Employment_Status  Approval\n",
       "0   26556           581         8314      79.26          employed  Rejected\n",
       "1  197392           389       111604      22.14          employed  Rejected\n",
       "2   44561           523        34118      45.44          employed  Rejected\n",
       "3  190363           729       118757      10.22        unemployed  Rejected\n",
       "4   61853           732        19210      44.13          employed  Approved\n",
       "5  108236           404        50797      10.24          employed  Rejected\n",
       "6  110165           570        61217       7.12          employed  Approved\n",
       "7   40656           600        21267     113.63        unemployed  Rejected\n",
       "8   38233           346         8467     126.42        unemployed  Rejected\n",
       "9   81024           403        19217      36.92        unemployed  Rejected"
      ]
     },
     "execution_count": 43,
     "metadata": {},
     "output_type": "execute_result"
    }
   ],
   "source": [
    "loan= loan.drop(columns=[\"Text\"])\n",
    "loan.head(10)"
   ]
  },
  {
   "cell_type": "code",
   "execution_count": 44,
   "id": "04a08904",
   "metadata": {},
   "outputs": [
    {
     "data": {
      "text/html": [
       "<div>\n",
       "<style scoped>\n",
       "    .dataframe tbody tr th:only-of-type {\n",
       "        vertical-align: middle;\n",
       "    }\n",
       "\n",
       "    .dataframe tbody tr th {\n",
       "        vertical-align: top;\n",
       "    }\n",
       "\n",
       "    .dataframe thead th {\n",
       "        text-align: right;\n",
       "    }\n",
       "</style>\n",
       "<table border=\"1\" class=\"dataframe\">\n",
       "  <thead>\n",
       "    <tr style=\"text-align: right;\">\n",
       "      <th></th>\n",
       "      <th>Income</th>\n",
       "      <th>Credit_Score</th>\n",
       "      <th>Loan_Amount</th>\n",
       "      <th>DTI_Ratio</th>\n",
       "      <th>Employment_Status</th>\n",
       "      <th>Approval</th>\n",
       "    </tr>\n",
       "  </thead>\n",
       "  <tbody>\n",
       "    <tr>\n",
       "      <th>0</th>\n",
       "      <td>26556</td>\n",
       "      <td>581</td>\n",
       "      <td>8314</td>\n",
       "      <td>79.26</td>\n",
       "      <td>0</td>\n",
       "      <td>Rejected</td>\n",
       "    </tr>\n",
       "    <tr>\n",
       "      <th>1</th>\n",
       "      <td>197392</td>\n",
       "      <td>389</td>\n",
       "      <td>111604</td>\n",
       "      <td>22.14</td>\n",
       "      <td>0</td>\n",
       "      <td>Rejected</td>\n",
       "    </tr>\n",
       "    <tr>\n",
       "      <th>2</th>\n",
       "      <td>44561</td>\n",
       "      <td>523</td>\n",
       "      <td>34118</td>\n",
       "      <td>45.44</td>\n",
       "      <td>0</td>\n",
       "      <td>Rejected</td>\n",
       "    </tr>\n",
       "    <tr>\n",
       "      <th>3</th>\n",
       "      <td>190363</td>\n",
       "      <td>729</td>\n",
       "      <td>118757</td>\n",
       "      <td>10.22</td>\n",
       "      <td>1</td>\n",
       "      <td>Rejected</td>\n",
       "    </tr>\n",
       "    <tr>\n",
       "      <th>4</th>\n",
       "      <td>61853</td>\n",
       "      <td>732</td>\n",
       "      <td>19210</td>\n",
       "      <td>44.13</td>\n",
       "      <td>0</td>\n",
       "      <td>Approved</td>\n",
       "    </tr>\n",
       "    <tr>\n",
       "      <th>5</th>\n",
       "      <td>108236</td>\n",
       "      <td>404</td>\n",
       "      <td>50797</td>\n",
       "      <td>10.24</td>\n",
       "      <td>0</td>\n",
       "      <td>Rejected</td>\n",
       "    </tr>\n",
       "    <tr>\n",
       "      <th>6</th>\n",
       "      <td>110165</td>\n",
       "      <td>570</td>\n",
       "      <td>61217</td>\n",
       "      <td>7.12</td>\n",
       "      <td>0</td>\n",
       "      <td>Approved</td>\n",
       "    </tr>\n",
       "    <tr>\n",
       "      <th>7</th>\n",
       "      <td>40656</td>\n",
       "      <td>600</td>\n",
       "      <td>21267</td>\n",
       "      <td>113.63</td>\n",
       "      <td>1</td>\n",
       "      <td>Rejected</td>\n",
       "    </tr>\n",
       "    <tr>\n",
       "      <th>8</th>\n",
       "      <td>38233</td>\n",
       "      <td>346</td>\n",
       "      <td>8467</td>\n",
       "      <td>126.42</td>\n",
       "      <td>1</td>\n",
       "      <td>Rejected</td>\n",
       "    </tr>\n",
       "    <tr>\n",
       "      <th>9</th>\n",
       "      <td>81024</td>\n",
       "      <td>403</td>\n",
       "      <td>19217</td>\n",
       "      <td>36.92</td>\n",
       "      <td>1</td>\n",
       "      <td>Rejected</td>\n",
       "    </tr>\n",
       "  </tbody>\n",
       "</table>\n",
       "</div>"
      ],
      "text/plain": [
       "   Income  Credit_Score  Loan_Amount  DTI_Ratio  Employment_Status  Approval\n",
       "0   26556           581         8314      79.26                  0  Rejected\n",
       "1  197392           389       111604      22.14                  0  Rejected\n",
       "2   44561           523        34118      45.44                  0  Rejected\n",
       "3  190363           729       118757      10.22                  1  Rejected\n",
       "4   61853           732        19210      44.13                  0  Approved\n",
       "5  108236           404        50797      10.24                  0  Rejected\n",
       "6  110165           570        61217       7.12                  0  Approved\n",
       "7   40656           600        21267     113.63                  1  Rejected\n",
       "8   38233           346         8467     126.42                  1  Rejected\n",
       "9   81024           403        19217      36.92                  1  Rejected"
      ]
     },
     "execution_count": 44,
     "metadata": {},
     "output_type": "execute_result"
    }
   ],
   "source": [
    "# - one-Hot Encoding으로 수치 유형으로 변환  \n",
    "# 타겟 열 Employment_Status을 이진 값으로 변환\n",
    "loan[\"Employment_Status\"]=loan[\"Employment_Status\"].map({\"employed\":0,\"unemployed\":1})\n",
    "\n",
    "\n",
    "# 결과 확인\n",
    "loan.head(10)"
   ]
  },
  {
   "cell_type": "code",
   "execution_count": 45,
   "id": "26e87b5b",
   "metadata": {},
   "outputs": [],
   "source": [
    "loan_input=loan[[\"Income\",\"Credit_Score\",\"Loan_Amount\",\"DTI_Ratio\",\"Employment_Status\"]] ## input 데이터 설정\n",
    "loan_target=loan[\"Approval\"] # 타겟 데이터 설정"
   ]
  },
  {
   "cell_type": "code",
   "execution_count": 46,
   "id": "d9f493bb",
   "metadata": {},
   "outputs": [
    {
     "data": {
      "text/plain": [
       "0    Rejected\n",
       "1    Rejected\n",
       "2    Rejected\n",
       "3    Rejected\n",
       "4    Approved\n",
       "Name: Approval, dtype: object"
      ]
     },
     "execution_count": 46,
     "metadata": {},
     "output_type": "execute_result"
    }
   ],
   "source": [
    "loan_target[:5]"
   ]
  },
  {
   "cell_type": "code",
   "execution_count": 47,
   "id": "4557e5ba",
   "metadata": {},
   "outputs": [
    {
     "data": {
      "text/plain": [
       "pandas.core.frame.DataFrame"
      ]
     },
     "execution_count": 47,
     "metadata": {},
     "output_type": "execute_result"
    }
   ],
   "source": [
    "type(loan_input)"
   ]
  },
  {
   "cell_type": "code",
   "execution_count": 48,
   "id": "a6d3e6ff",
   "metadata": {},
   "outputs": [],
   "source": [
    "loan_target=loan_target.to_numpy()\n",
    "loan_input=loan_input.to_numpy()"
   ]
  },
  {
   "cell_type": "code",
   "execution_count": 49,
   "id": "60cb8599",
   "metadata": {},
   "outputs": [
    {
     "data": {
      "text/plain": [
       "numpy.ndarray"
      ]
     },
     "execution_count": 49,
     "metadata": {},
     "output_type": "execute_result"
    }
   ],
   "source": [
    "type(loan_input)"
   ]
  },
  {
   "cell_type": "code",
   "execution_count": 50,
   "id": "6bc95804",
   "metadata": {},
   "outputs": [
    {
     "data": {
      "text/plain": [
       "numpy.ndarray"
      ]
     },
     "execution_count": 50,
     "metadata": {},
     "output_type": "execute_result"
    }
   ],
   "source": [
    "type(loan_target)"
   ]
  },
  {
   "cell_type": "markdown",
   "id": "c895ef25",
   "metadata": {},
   "source": [
    "---"
   ]
  },
  {
   "cell_type": "markdown",
   "id": "ccc752f5",
   "metadata": {},
   "source": [
    "# 데이터 분할\n",
    "\n",
    "- 수행 작업  \n",
    "=> 훈련데이터와 테스트 데이터로  input 값과 target 값으로 나눔"
   ]
  },
  {
   "cell_type": "code",
   "execution_count": 51,
   "id": "2d8cf032",
   "metadata": {},
   "outputs": [],
   "source": [
    "from sklearn.model_selection import train_test_split"
   ]
  },
  {
   "cell_type": "code",
   "execution_count": 52,
   "id": "a582c997",
   "metadata": {},
   "outputs": [],
   "source": [
    "train_input,test_input,train_target,test_target=train_test_split(loan_input,loan_target,random_state=42)"
   ]
  },
  {
   "cell_type": "markdown",
   "id": "8b4abba9",
   "metadata": {},
   "source": [
    "---"
   ]
  },
  {
   "cell_type": "markdown",
   "id": "f1d84e54",
   "metadata": {},
   "source": [
    "# 데이터 스케일링\n",
    "\n",
    "- 수행 작업  \n",
    "=>해당 훈련데이터와 테스트 데이터를 나눈 값을 스케일링 해준다."
   ]
  },
  {
   "cell_type": "code",
   "execution_count": 53,
   "id": "faf251f1",
   "metadata": {},
   "outputs": [],
   "source": [
    "from sklearn.preprocessing import StandardScaler\n",
    "\n",
    "ss=StandardScaler()\n",
    "\n",
    "ss.fit(train_input)\n",
    "\n",
    "train_scaled=ss.transform(train_input)\n",
    "test_scaled=ss.transform(test_input)"
   ]
  },
  {
   "cell_type": "code",
   "execution_count": 54,
   "id": "e260aa22",
   "metadata": {},
   "outputs": [
    {
     "data": {
      "text/plain": [
       "array([[ 0.44466921,  0.93752667,  0.33114045, -0.01307517,  1.00144549],\n",
       "       [ 0.31674229, -1.64311454,  0.84467927, -0.08792399,  1.00144549],\n",
       "       [-0.54148815,  1.68654205,  0.58012984, -0.44948707,  1.00144549],\n",
       "       [ 0.45337435,  1.01935188,  1.41887636, -0.72166458, -0.9985566 ],\n",
       "       [ 0.90542279,  0.02486088,  1.90466021, -0.50515974,  1.00144549]])"
      ]
     },
     "execution_count": 54,
     "metadata": {},
     "output_type": "execute_result"
    }
   ],
   "source": [
    "train_scaled[:5]"
   ]
  },
  {
   "cell_type": "markdown",
   "id": "3d610d6b",
   "metadata": {},
   "source": [
    "---"
   ]
  },
  {
   "cell_type": "markdown",
   "id": "b2386cba",
   "metadata": {},
   "source": [
    "# KNeighborsClassifier를 사용하여 모델링  \n",
    "\n",
    "\n",
    "- 수행 작업  \n",
    "=>KNN class를 가져와서 초기화 시키고 스케일된 KNN 모델을 생성 시킨다.    \n",
    "=> 그 후  KNN모델의 훈련데이터와 테스트 데이터의 점수를 측정한다.  \n",
    "\n",
    "- 분석 결과  \n",
    "훈련데이터는 99.2의 정확도를 가졌고   \n",
    "테스트 데이터는 98.8의 정확도를 가져 훈련 데이터가 과대적합 되어있음을 알수 있다.\n",
    "\n",
    "** 참조: 이때의 KNeighborsClassifier의 최근접 이웃의 개수는 디폴트 값으로 3이다."
   ]
  },
  {
   "cell_type": "code",
   "execution_count": 55,
   "id": "fb1db268",
   "metadata": {},
   "outputs": [
    {
     "name": "stdout",
     "output_type": "stream",
     "text": [
      "0.9922222222222222\n",
      "0.988\n"
     ]
    }
   ],
   "source": [
    "# KNN class 가져오기 \n",
    "from sklearn.neighbors import KNeighborsClassifier\n",
    "\n",
    "#KNeighborsClassifier 초기화 \n",
    "knn=KNeighborsClassifier()\n",
    "\n",
    "\n",
    "\n",
    "#KNN 모델 생성 \n",
    "knn.fit(train_scaled,train_target)\n",
    "\n",
    "\n",
    "print(knn.score(train_scaled,train_target))\n",
    "print(knn.score(test_scaled,test_target))\n"
   ]
  },
  {
   "cell_type": "markdown",
   "id": "a76fb6bf",
   "metadata": {},
   "source": [
    "---"
   ]
  },
  {
   "cell_type": "markdown",
   "id": "86e68058",
   "metadata": {},
   "source": [
    "## KNeighborClassifier 모델링 기법의 하이퍼파라미터를 결정\n",
    "\n",
    "---\n",
    "\n",
    "### 1. 수행 작업\n",
    "1) KNeighborClassifier 모델링 기법의 최적의 성과를 달성하는 파라미터를 설정해주기 위해 최근접 이웃의 개수를 3,5,7,10,15,20으로 리스트에 저장 시킨다.  \n",
    "2)  리스트에 저장된 이웃의 개수를 반복문을 통해 파라미터를 조정해가며 학습시킨다.  \n",
    "3) 각각의 학습된 훈련데이터와 테스트 데이터의 정확도를 측정 후 비교    \n",
    "4) matplotlib 그래프로 시각화하여  최적의 성과를 달성하는 파라미터를 비교해본다.     \n",
    "\n",
    "---"
   ]
  },
  {
   "cell_type": "markdown",
   "id": "d6418ae6",
   "metadata": {},
   "source": [
    "### KNeighborsClassifier 모델링 기법의 최적의 성과를 달성하는 파라미터 설명"
   ]
  },
  {
   "cell_type": "code",
   "execution_count": 56,
   "id": "75195265",
   "metadata": {},
   "outputs": [],
   "source": [
    "train_score=[]\n",
    "test_score=[]"
   ]
  },
  {
   "cell_type": "code",
   "execution_count": 57,
   "id": "b4a70660",
   "metadata": {},
   "outputs": [
    {
     "name": "stdout",
     "output_type": "stream",
     "text": [
      "n_neighbors= 3\n",
      "0.9937777777777778\n",
      "0.9875 \n",
      "\n",
      "n_neighbors= 5\n",
      "0.9922222222222222\n",
      "0.988 \n",
      "\n",
      "n_neighbors= 7\n",
      "0.9919444444444444\n",
      "0.9888333333333333 \n",
      "\n",
      "n_neighbors= 10\n",
      "0.9901666666666666\n",
      "0.9893333333333333 \n",
      "\n",
      "n_neighbors= 15\n",
      "0.9898333333333333\n",
      "0.991 \n",
      "\n",
      "n_neighbors= 20\n",
      "0.9896666666666667\n",
      "0.9901666666666666 \n",
      "\n"
     ]
    }
   ],
   "source": [
    "k_list=[3,5,7,10,15,20]\n",
    "for k in k_list:\n",
    "    knn=KNeighborsClassifier(n_neighbors=k)\n",
    "    knn.fit(train_scaled,train_target)\n",
    "    print(\"n_neighbors=\",k)\n",
    "    print(knn.score(train_scaled,train_target))\n",
    "    print(knn.score(test_scaled,test_target),\"\\n\")\n",
    "    train_score.append(knn.score(train_scaled,train_target))\n",
    "    test_score.append(knn.score(test_scaled,test_target))"
   ]
  },
  {
   "cell_type": "code",
   "execution_count": 58,
   "id": "e3ffba88",
   "metadata": {},
   "outputs": [
    {
     "data": {
      "image/png": "[encoded data removed]",
      "text/plain": [
       "<Figure size 640x480 with 1 Axes>"
      ]
     },
     "metadata": {},
     "output_type": "display_data"
    }
   ],
   "source": [
    "import matplotlib.pyplot as plt\n",
    "\n",
    "plt.plot(k_list,train_score,label=\"train_score\")\n",
    "plt.plot(k_list,test_score,label=\"test_score\")\n",
    "plt.xlabel('k')\n",
    "plt.ylabel('score')\n",
    "plt.legend()\n",
    "plt.show()"
   ]
  },
  {
   "cell_type": "markdown",
   "id": "a5b716cd",
   "metadata": {},
   "source": [
    "- k=3, 5, 7, 10일 경우:\n",
    "train_score가 test_score보다 더 크기 때문에 과대적합 상태로, 이는 모델이 훈련 세트에는 잘 맞지만, 테스트 세트나 실제 새로운 데이터에는 성능이 떨어질 수 있다.  \n",
    "그러나 훈련 세트는 전체 데이터를 대표한다고 가정하므로, 훈련 세트를 잘 학습하는 것도 중요하므로 k=10일 때는 train_score와 test_score 간의 차이가 가장 작아, 일반화 성능이 우수한 모델이라고 판단할 수   있다. 따라서 k=10은 적절한 하이퍼파라미터로 볼 수 있다.  \n",
    "\n",
    "\n",
    "\n",
    "- k=15, 20일 경우:  \n",
    "train_score보다 test_score가 더 높게 나타나는 과소적합 상태로, 모델이 훈련 세트조차 충분히 학습하지 못한 경우이다. 이런 경우에는 모델이 너무 단순해 실전에 적합하지 않음을 알 수 있다. \n",
    "\n",
    "---"
   ]
  },
  {
   "cell_type": "code",
   "execution_count": 59,
   "id": "1fcd4b74",
   "metadata": {},
   "outputs": [
    {
     "name": "stdout",
     "output_type": "stream",
     "text": [
      "0.9901666666666666\n",
      "0.9893333333333333\n"
     ]
    }
   ],
   "source": [
    "# KNN class 가져오기 \n",
    "from sklearn.neighbors import KNeighborsClassifier\n",
    "\n",
    "# 하이퍼파라미터 k : 10설정\n",
    "knn=KNeighborsClassifier(n_neighbors=10)\n",
    "\n",
    "\n",
    "\n",
    "#KNN 모델 생성 \n",
    "knn.fit(train_scaled,train_target)\n",
    "\n",
    "\n",
    "print(knn.score(train_scaled,train_target))\n",
    "print(knn.score(test_scaled,test_target))\n"
   ]
  },
  {
   "cell_type": "markdown",
   "id": "04ad2be0",
   "metadata": {},
   "source": [
    "### 결론\n",
    " 그래프와 모델링 결과를 보면, k=10일 때 가장 적절한 모델이 만들어졌음을 알 수 있다.\n",
    " \n",
    "    train_score: 0.9901666666666666  \n",
    "    test_score:  0.9893333333333333"
   ]
  },
  {
   "cell_type": "markdown",
   "id": "e9ec2604",
   "metadata": {},
   "source": [
    "---"
   ]
  },
  {
   "cell_type": "code",
   "execution_count": 60,
   "id": "c31ef275",
   "metadata": {},
   "outputs": [
    {
     "name": "stdout",
     "output_type": "stream",
     "text": [
      "Accuracy: 0.9893333333333333\n",
      "Precision: 0.9960206923995225\n",
      "Recall: 0.9912871287128713\n",
      "F1 Score: 0.9936482731242556\n"
     ]
    }
   ],
   "source": [
    "from sklearn.metrics import accuracy_score,precision_score,recall_score,f1_score\n",
    "\n",
    "pred=knn.predict(test_scaled)\n",
    "\n",
    "acc=accuracy_score(test_target,pred)\n",
    "precision = precision_score(test_target, pred, pos_label=\"Rejected\")\n",
    "recall = recall_score(test_target, pred, pos_label=\"Rejected\")\n",
    "f1 = f1_score(test_target, pred, pos_label=\"Rejected\")\n",
    "\n",
    "print(\"Accuracy:\", acc)\n",
    "print(\"Precision:\",precision)\n",
    "print(\"Recall:\",recall)\n",
    "print(\"F1 Score:\",f1)\n"
   ]
  },
  {
   "cell_type": "markdown",
   "id": "87e7f4aa",
   "metadata": {},
   "source": [
    "\n",
    "##  모델링 결과 및 성과 지표\n",
    "\n",
    "K-최근접 이웃(K-Nearest Neighbors, KNN) 분류기를 사용하여 대출 승인 여부를 예측하였고, 모델의 성능은 아래와 같다.\n",
    "\n",
    "- **Accuracy (정확도)**: 0.9893333333333333  \n",
    "- **Precision (정밀도, 'Rejected' 기준)**: 0.9960206923995225  \n",
    "- **Recall (재현율, 'Rejected' 기준)**: 0.9912871287128713  \n",
    "- **F1 Score**: 0.9936482731242556\n",
    "\n",
    "=> 참고: pos_label=\"Rejected\"로 설정하여 \"Rejected\" 클래스의 예측 성과를 집중 평가함\n",
    "\n",
    "---\n",
    "\n",
    "##  성과에 영향을 미친 주요 요소 분석\n",
    "\n",
    "1. 데이터 정규화:\n",
    "\n",
    "* KNN은 거리 기반 알고리즘이므로, 피처 값의 스케일이 동일해야 한다.\n",
    "\n",
    "* StandardScaler를 통한 정규화가 높은 정확도와 정밀도에 크게 기여한다.\n",
    "\n",
    "2. 적절한 K 값 설정:\n",
    "\n",
    "* 과적합을 방지하고 일반화를 높이기 위해 적절한 k 값 선택이 중요하다.\n",
    "\n",
    "* 본 모델은 최적의 k 값을 사용하여 높은 재현율과 정밀도를 달성하였다.\n",
    "\n",
    "3. 데이터의 분포와 패턴:\n",
    "\n",
    "* KNN은 데이터 분포에 민감하므로, 군집 구조가 명확한 데이터일수록 좋은 성능을 낸다.\n",
    "\n",
    "* 본 분석 대상 데이터는 \"Rejected\"와 \"Approved\" 간 경계가 비교적 뚜렷했을 가능성이 높은것을 알 수 있다.\n",
    "\n",
    "---\n",
    "\n",
    "##  결론\n",
    "\n",
    "KNN 모델은 비교적 단순한 알고리즘이지만, 적절한 전처리와 튜닝을 통해 대출 승인 여부를 안정적으로 예측할 수 있다.  \n",
    "다만 성능 향상을 위해 더 복잡한 모델이나 교차 검증 등을 활용한 추가 실험이 필요하다.\n"
   ]
  }
 ],
 "metadata": {
  "kernelspec": {
   "display_name": "mlbasic",
   "language": "python",
   "name": "python3"
  },
  "language_info": {
   "codemirror_mode": {
    "name": "ipython",
    "version": 3
   },
   "file_extension": ".py",
   "mimetype": "text/x-python",
   "name": "python",
   "nbconvert_exporter": "python",
   "pygments_lexer": "ipython3",
   "version": "3.12.9"
  }
 },
 "nbformat": 4,
 "nbformat_minor": 5
}
