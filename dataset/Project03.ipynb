{
 "cells": [
  {
   "cell_type": "markdown",
   "id": "41f48589",
   "metadata": {},
   "source": [
    "## 프로젝트 개요 \n",
    "=> 대출 신청자의 정보(소득, 신용점수, 고용 상태 등)를 바탕으로 대출 승인 여부(Approval)를 예측하는 분류 모델을 구축하고, 주요 영향을 미치는 요소들을 분석함.  \n",
    "\n",
    "---"
   ]
  },
  {
   "cell_type": "markdown",
   "id": "e4f96d39",
   "metadata": {},
   "source": [
    "# 데이터 준비\n",
    "=> 데이터셋은 지원자의 소득(Income),신용 점수(Credit Score),대출 금액(Loan Amount),  \n",
    " 부채 소득 비율(DTI Ratio), 고용여부(Employment Status) 등의 속성을 사용하여 대출 승인(Approval) 여부를 예측하는 데이터이다."
   ]
  },
  {
   "cell_type": "markdown",
   "id": "849f311e",
   "metadata": {},
   "source": [
    "- 수행 작업  \n",
    "=>불필요한 Text 열 제거  \n",
    "=>one-Hot-Encoding으로 수치\n",
    "\n",
    " 유형으로 변환(타겟 열 Employment_Status을 이진 값으로 변환)  \n",
    "=> input 데이터와 target 데이터를 나누어 넘파이 배열로 만듬"
   ]
  },
  {
   "cell_type": "code",
   "execution_count": 16,
   "id": "4f3f0cb0",
   "metadata": {},
   "outputs": [],
   "source": [
    "import pandas as pd\n",
    "import numpy as np\n",
    "\n",
    "data_url=\"C:\\\\Users\\\\채재헌\\\\machine_learning\\\\dataset\\\\loan_data.csv\"\n",
    "loan=pd.read_csv(data_url)"
   ]
  },
  {
   "cell_type": "code",
   "execution_count": 17,
   "id": "c5e0cf59",
   "metadata": {},
   "outputs": [
    {
     "data": {
      "text/html": [
       "<div>\n",
       "<style scoped>\n",
       "    .dataframe tbody tr th:only-of-type {\n",
       "        vertical-align: middle;\n",
       "    }\n",
       "\n",
       "    .dataframe tbody tr th {\n",
       "        vertical-align: top;\n",
       "    }\n",
       "\n",
       "    .dataframe thead th {\n",
       "        text-align: right;\n",
       "    }\n",
       "</style>\n",
       "<table border=\"1\" class=\"dataframe\">\n",
       "  <thead>\n",
       "    <tr style=\"text-align: right;\">\n",
       "      <th></th>\n",
       "      <th>Text</th>\n",
       "      <th>Income</th>\n",
       "      <th>Credit_Score</th>\n",
       "      <th>Loan_Amount</th>\n",
       "      <th>DTI_Ratio</th>\n",
       "      <th>Employment_Status</th>\n",
       "      <th>Approval</th>\n",
       "    </tr>\n",
       "  </thead>\n",
       "  <tbody>\n",
       "    <tr>\n",
       "      <th>0</th>\n",
       "      <td>I need a loan to pay for an international vaca...</td>\n",
       "      <td>26556</td>\n",
       "      <td>581</td>\n",
       "      <td>8314</td>\n",
       "      <td>79.26</td>\n",
       "      <td>employed</td>\n",
       "      <td>Rejected</td>\n",
       "    </tr>\n",
       "    <tr>\n",
       "      <th>1</th>\n",
       "      <td>I want to make home improvements like installi...</td>\n",
       "      <td>197392</td>\n",
       "      <td>389</td>\n",
       "      <td>111604</td>\n",
       "      <td>22.14</td>\n",
       "      <td>employed</td>\n",
       "      <td>Rejected</td>\n",
       "    </tr>\n",
       "    <tr>\n",
       "      <th>2</th>\n",
       "      <td>I need a loan for home renovation, including a...</td>\n",
       "      <td>44561</td>\n",
       "      <td>523</td>\n",
       "      <td>34118</td>\n",
       "      <td>45.44</td>\n",
       "      <td>employed</td>\n",
       "      <td>Rejected</td>\n",
       "    </tr>\n",
       "    <tr>\n",
       "      <th>3</th>\n",
       "      <td>I need funds to buy new furniture and applianc...</td>\n",
       "      <td>190363</td>\n",
       "      <td>729</td>\n",
       "      <td>118757</td>\n",
       "      <td>10.22</td>\n",
       "      <td>unemployed</td>\n",
       "      <td>Rejected</td>\n",
       "    </tr>\n",
       "    <tr>\n",
       "      <th>4</th>\n",
       "      <td>I need a loan to start a small business.</td>\n",
       "      <td>61853</td>\n",
       "      <td>732</td>\n",
       "      <td>19210</td>\n",
       "      <td>44.13</td>\n",
       "      <td>employed</td>\n",
       "      <td>Approved</td>\n",
       "    </tr>\n",
       "    <tr>\n",
       "      <th>5</th>\n",
       "      <td>I need a loan to repair my car after an accident.</td>\n",
       "      <td>108236</td>\n",
       "      <td>404</td>\n",
       "      <td>50797</td>\n",
       "      <td>10.24</td>\n",
       "      <td>employed</td>\n",
       "      <td>Rejected</td>\n",
       "    </tr>\n",
       "    <tr>\n",
       "      <th>6</th>\n",
       "      <td>I need financial help to cover maternity and d...</td>\n",
       "      <td>110165</td>\n",
       "      <td>570</td>\n",
       "      <td>61217</td>\n",
       "      <td>7.12</td>\n",
       "      <td>employed</td>\n",
       "      <td>Approved</td>\n",
       "    </tr>\n",
       "    <tr>\n",
       "      <th>7</th>\n",
       "      <td>I need money to open a small bookstore and caf챕.</td>\n",
       "      <td>40656</td>\n",
       "      <td>600</td>\n",
       "      <td>21267</td>\n",
       "      <td>113.63</td>\n",
       "      <td>unemployed</td>\n",
       "      <td>Rejected</td>\n",
       "    </tr>\n",
       "    <tr>\n",
       "      <th>8</th>\n",
       "      <td>I need a loan to install a security system at ...</td>\n",
       "      <td>38233</td>\n",
       "      <td>346</td>\n",
       "      <td>8467</td>\n",
       "      <td>126.42</td>\n",
       "      <td>unemployed</td>\n",
       "      <td>Rejected</td>\n",
       "    </tr>\n",
       "    <tr>\n",
       "      <th>9</th>\n",
       "      <td>I need a loan to cover emergency expenses afte...</td>\n",
       "      <td>81024</td>\n",
       "      <td>403</td>\n",
       "      <td>19217</td>\n",
       "      <td>36.92</td>\n",
       "      <td>unemployed</td>\n",
       "      <td>Rejected</td>\n",
       "    </tr>\n",
       "  </tbody>\n",
       "</table>\n",
       "</div>"
      ],
      "text/plain": [
       "                                                Text  Income  Credit_Score  \\\n",
       "0  I need a loan to pay for an international vaca...   26556           581   \n",
       "1  I want to make home improvements like installi...  197392           389   \n",
       "2  I need a loan for home renovation, including a...   44561           523   \n",
       "3  I need funds to buy new furniture and applianc...  190363           729   \n",
       "4           I need a loan to start a small business.   61853           732   \n",
       "5  I need a loan to repair my car after an accident.  108236           404   \n",
       "6  I need financial help to cover maternity and d...  110165           570   \n",
       "7   I need money to open a small bookstore and caf챕.   40656           600   \n",
       "8  I need a loan to install a security system at ...   38233           346   \n",
       "9  I need a loan to cover emergency expenses afte...   81024           403   \n",
       "\n",
       "   Loan_Amount  DTI_Ratio Employment_Status  Approval  \n",
       "0         8314      79.26          employed  Rejected  \n",
       "1       111604      22.14          employed  Rejected  \n",
       "2        34118      45.44          employed  Rejected  \n",
       "3       118757      10.22        unemployed  Rejected  \n",
       "4        19210      44.13          employed  Approved  \n",
       "5        50797      10.24          employed  Rejected  \n",
       "6        61217       7.12          employed  Approved  \n",
       "7        21267     113.63        unemployed  Rejected  \n",
       "8         8467     126.42        unemployed  Rejected  \n",
       "9        19217      36.92        unemployed  Rejected  "
      ]
     },
     "execution_count": 17,
     "metadata": {},
     "output_type": "execute_result"
    }
   ],
   "source": [
    "loan.head(10)"
   ]
  },
  {
   "cell_type": "code",
   "execution_count": 18,
   "id": "f162923c",
   "metadata": {},
   "outputs": [
    {
     "data": {
      "text/html": [
       "<div>\n",
       "<style scoped>\n",
       "    .dataframe tbody tr th:only-of-type {\n",
       "        vertical-align: middle;\n",
       "    }\n",
       "\n",
       "    .dataframe tbody tr th {\n",
       "        vertical-align: top;\n",
       "    }\n",
       "\n",
       "    .dataframe thead th {\n",
       "        text-align: right;\n",
       "    }\n",
       "</style>\n",
       "<table border=\"1\" class=\"dataframe\">\n",
       "  <thead>\n",
       "    <tr style=\"text-align: right;\">\n",
       "      <th></th>\n",
       "      <th>Income</th>\n",
       "      <th>Credit_Score</th>\n",
       "      <th>Loan_Amount</th>\n",
       "      <th>DTI_Ratio</th>\n",
       "      <th>Employment_Status</th>\n",
       "      <th>Approval</th>\n",
       "    </tr>\n",
       "  </thead>\n",
       "  <tbody>\n",
       "    <tr>\n",
       "      <th>0</th>\n",
       "      <td>26556</td>\n",
       "      <td>581</td>\n",
       "      <td>8314</td>\n",
       "      <td>79.26</td>\n",
       "      <td>employed</td>\n",
       "      <td>Rejected</td>\n",
       "    </tr>\n",
       "    <tr>\n",
       "      <th>1</th>\n",
       "      <td>197392</td>\n",
       "      <td>389</td>\n",
       "      <td>111604</td>\n",
       "      <td>22.14</td>\n",
       "      <td>employed</td>\n",
       "      <td>Rejected</td>\n",
       "    </tr>\n",
       "    <tr>\n",
       "      <th>2</th>\n",
       "      <td>44561</td>\n",
       "      <td>523</td>\n",
       "      <td>34118</td>\n",
       "      <td>45.44</td>\n",
       "      <td>employed</td>\n",
       "      <td>Rejected</td>\n",
       "    </tr>\n",
       "    <tr>\n",
       "      <th>3</th>\n",
       "      <td>190363</td>\n",
       "      <td>729</td>\n",
       "      <td>118757</td>\n",
       "      <td>10.22</td>\n",
       "      <td>unemployed</td>\n",
       "      <td>Rejected</td>\n",
       "    </tr>\n",
       "    <tr>\n",
       "      <th>4</th>\n",
       "      <td>61853</td>\n",
       "      <td>732</td>\n",
       "      <td>19210</td>\n",
       "      <td>44.13</td>\n",
       "      <td>employed</td>\n",
       "      <td>Approved</td>\n",
       "    </tr>\n",
       "    <tr>\n",
       "      <th>5</th>\n",
       "      <td>108236</td>\n",
       "      <td>404</td>\n",
       "      <td>50797</td>\n",
       "      <td>10.24</td>\n",
       "      <td>employed</td>\n",
       "      <td>Rejected</td>\n",
       "    </tr>\n",
       "    <tr>\n",
       "      <th>6</th>\n",
       "      <td>110165</td>\n",
       "      <td>570</td>\n",
       "      <td>61217</td>\n",
       "      <td>7.12</td>\n",
       "      <td>employed</td>\n",
       "      <td>Approved</td>\n",
       "    </tr>\n",
       "    <tr>\n",
       "      <th>7</th>\n",
       "      <td>40656</td>\n",
       "      <td>600</td>\n",
       "      <td>21267</td>\n",
       "      <td>113.63</td>\n",
       "      <td>unemployed</td>\n",
       "      <td>Rejected</td>\n",
       "    </tr>\n",
       "    <tr>\n",
       "      <th>8</th>\n",
       "      <td>38233</td>\n",
       "      <td>346</td>\n",
       "      <td>8467</td>\n",
       "      <td>126.42</td>\n",
       "      <td>unemployed</td>\n",
       "      <td>Rejected</td>\n",
       "    </tr>\n",
       "    <tr>\n",
       "      <th>9</th>\n",
       "      <td>81024</td>\n",
       "      <td>403</td>\n",
       "      <td>19217</td>\n",
       "      <td>36.92</td>\n",
       "      <td>unemployed</td>\n",
       "      <td>Rejected</td>\n",
       "    </tr>\n",
       "  </tbody>\n",
       "</table>\n",
       "</div>"
      ],
      "text/plain": [
       "   Income  Credit_Score  Loan_Amount  DTI_Ratio Employment_Status  Approval\n",
       "0   26556           581         8314      79.26          employed  Rejected\n",
       "1  197392           389       111604      22.14          employed  Rejected\n",
       "2   44561           523        34118      45.44          employed  Rejected\n",
       "3  190363           729       118757      10.22        unemployed  Rejected\n",
       "4   61853           732        19210      44.13          employed  Approved\n",
       "5  108236           404        50797      10.24          employed  Rejected\n",
       "6  110165           570        61217       7.12          employed  Approved\n",
       "7   40656           600        21267     113.63        unemployed  Rejected\n",
       "8   38233           346         8467     126.42        unemployed  Rejected\n",
       "9   81024           403        19217      36.92        unemployed  Rejected"
      ]
     },
     "execution_count": 18,
     "metadata": {},
     "output_type": "execute_result"
    }
   ],
   "source": [
    "loan= loan.drop(columns=[\"Text\"])\n",
    "loan.head(10)"
   ]
  },
  {
   "cell_type": "code",
   "execution_count": 19,
   "id": "04a08904",
   "metadata": {},
   "outputs": [
    {
     "data": {
      "text/html": [
       "<div>\n",
       "<style scoped>\n",
       "    .dataframe tbody tr th:only-of-type {\n",
       "        vertical-align: middle;\n",
       "    }\n",
       "\n",
       "    .dataframe tbody tr th {\n",
       "        vertical-align: top;\n",
       "    }\n",
       "\n",
       "    .dataframe thead th {\n",
       "        text-align: right;\n",
       "    }\n",
       "</style>\n",
       "<table border=\"1\" class=\"dataframe\">\n",
       "  <thead>\n",
       "    <tr style=\"text-align: right;\">\n",
       "      <th></th>\n",
       "      <th>Income</th>\n",
       "      <th>Credit_Score</th>\n",
       "      <th>Loan_Amount</th>\n",
       "      <th>DTI_Ratio</th>\n",
       "      <th>Employment_Status</th>\n",
       "      <th>Approval</th>\n",
       "    </tr>\n",
       "  </thead>\n",
       "  <tbody>\n",
       "    <tr>\n",
       "      <th>0</th>\n",
       "      <td>26556</td>\n",
       "      <td>581</td>\n",
       "      <td>8314</td>\n",
       "      <td>79.26</td>\n",
       "      <td>0</td>\n",
       "      <td>Rejected</td>\n",
       "    </tr>\n",
       "    <tr>\n",
       "      <th>1</th>\n",
       "      <td>197392</td>\n",
       "      <td>389</td>\n",
       "      <td>111604</td>\n",
       "      <td>22.14</td>\n",
       "      <td>0</td>\n",
       "      <td>Rejected</td>\n",
       "    </tr>\n",
       "    <tr>\n",
       "      <th>2</th>\n",
       "      <td>44561</td>\n",
       "      <td>523</td>\n",
       "      <td>34118</td>\n",
       "      <td>45.44</td>\n",
       "      <td>0</td>\n",
       "      <td>Rejected</td>\n",
       "    </tr>\n",
       "    <tr>\n",
       "      <th>3</th>\n",
       "      <td>190363</td>\n",
       "      <td>729</td>\n",
       "      <td>118757</td>\n",
       "      <td>10.22</td>\n",
       "      <td>1</td>\n",
       "      <td>Rejected</td>\n",
       "    </tr>\n",
       "    <tr>\n",
       "      <th>4</th>\n",
       "      <td>61853</td>\n",
       "      <td>732</td>\n",
       "      <td>19210</td>\n",
       "      <td>44.13</td>\n",
       "      <td>0</td>\n",
       "      <td>Approved</td>\n",
       "    </tr>\n",
       "    <tr>\n",
       "      <th>5</th>\n",
       "      <td>108236</td>\n",
       "      <td>404</td>\n",
       "      <td>50797</td>\n",
       "      <td>10.24</td>\n",
       "      <td>0</td>\n",
       "      <td>Rejected</td>\n",
       "    </tr>\n",
       "    <tr>\n",
       "      <th>6</th>\n",
       "      <td>110165</td>\n",
       "      <td>570</td>\n",
       "      <td>61217</td>\n",
       "      <td>7.12</td>\n",
       "      <td>0</td>\n",
       "      <td>Approved</td>\n",
       "    </tr>\n",
       "    <tr>\n",
       "      <th>7</th>\n",
       "      <td>40656</td>\n",
       "      <td>600</td>\n",
       "      <td>21267</td>\n",
       "      <td>113.63</td>\n",
       "      <td>1</td>\n",
       "      <td>Rejected</td>\n",
       "    </tr>\n",
       "    <tr>\n",
       "      <th>8</th>\n",
       "      <td>38233</td>\n",
       "      <td>346</td>\n",
       "      <td>8467</td>\n",
       "      <td>126.42</td>\n",
       "      <td>1</td>\n",
       "      <td>Rejected</td>\n",
       "    </tr>\n",
       "    <tr>\n",
       "      <th>9</th>\n",
       "      <td>81024</td>\n",
       "      <td>403</td>\n",
       "      <td>19217</td>\n",
       "      <td>36.92</td>\n",
       "      <td>1</td>\n",
       "      <td>Rejected</td>\n",
       "    </tr>\n",
       "  </tbody>\n",
       "</table>\n",
       "</div>"
      ],
      "text/plain": [
       "   Income  Credit_Score  Loan_Amount  DTI_Ratio  Employment_Status  Approval\n",
       "0   26556           581         8314      79.26                  0  Rejected\n",
       "1  197392           389       111604      22.14                  0  Rejected\n",
       "2   44561           523        34118      45.44                  0  Rejected\n",
       "3  190363           729       118757      10.22                  1  Rejected\n",
       "4   61853           732        19210      44.13                  0  Approved\n",
       "5  108236           404        50797      10.24                  0  Rejected\n",
       "6  110165           570        61217       7.12                  0  Approved\n",
       "7   40656           600        21267     113.63                  1  Rejected\n",
       "8   38233           346         8467     126.42                  1  Rejected\n",
       "9   81024           403        19217      36.92                  1  Rejected"
      ]
     },
     "execution_count": 19,
     "metadata": {},
     "output_type": "execute_result"
    }
   ],
   "source": [
    "# - one-Hot Encoding으로 수치 유형으로 변환  \n",
    "# 타겟 열 Employment_Status을 이진 값으로 변환\n",
    "loan[\"Employment_Status\"]=loan[\"Employment_Status\"].map({\"employed\":0,\"unemployed\":1})\n",
    "\n",
    "\n",
    "# 결과 확인\n",
    "loan.head(10)"
   ]
  },
  {
   "cell_type": "code",
   "execution_count": 20,
   "id": "26e87b5b",
   "metadata": {},
   "outputs": [],
   "source": [
    "loan_input=loan[[\"Income\",\"Credit_Score\",\"Loan_Amount\",\"DTI_Ratio\",\"Employment_Status\"]] ## input 데이터 설정\n",
    "loan_target=loan[\"Approval\"] # 타겟 데이터 설정"
   ]
  },
  {
   "cell_type": "code",
   "execution_count": 21,
   "id": "d9f493bb",
   "metadata": {},
   "outputs": [
    {
     "data": {
      "text/plain": [
       "0    Rejected\n",
       "1    Rejected\n",
       "2    Rejected\n",
       "3    Rejected\n",
       "4    Approved\n",
       "Name: Approval, dtype: object"
      ]
     },
     "execution_count": 21,
     "metadata": {},
     "output_type": "execute_result"
    }
   ],
   "source": [
    "loan_target[:5]"
   ]
  },
  {
   "cell_type": "code",
   "execution_count": 22,
   "id": "4557e5ba",
   "metadata": {},
   "outputs": [
    {
     "data": {
      "text/plain": [
       "pandas.core.frame.DataFrame"
      ]
     },
     "execution_count": 22,
     "metadata": {},
     "output_type": "execute_result"
    }
   ],
   "source": [
    "type(loan_input)"
   ]
  },
  {
   "cell_type": "code",
   "execution_count": 23,
   "id": "a6d3e6ff",
   "metadata": {},
   "outputs": [],
   "source": [
    "loan_target=loan_target.to_numpy()\n",
    "loan_input=loan_input.to_numpy()"
   ]
  },
  {
   "cell_type": "code",
   "execution_count": 24,
   "id": "60cb8599",
   "metadata": {},
   "outputs": [
    {
     "data": {
      "text/plain": [
       "numpy.ndarray"
      ]
     },
     "execution_count": 24,
     "metadata": {},
     "output_type": "execute_result"
    }
   ],
   "source": [
    "type(loan_input)"
   ]
  },
  {
   "cell_type": "code",
   "execution_count": 25,
   "id": "6bc95804",
   "metadata": {},
   "outputs": [
    {
     "data": {
      "text/plain": [
       "numpy.ndarray"
      ]
     },
     "execution_count": 25,
     "metadata": {},
     "output_type": "execute_result"
    }
   ],
   "source": [
    "type(loan_target)"
   ]
  },
  {
   "cell_type": "markdown",
   "id": "ccc752f5",
   "metadata": {},
   "source": [
    "---\n",
    "\n",
    "# 데이터 분할\n",
    "\n",
    "- 수행 작업  \n",
    "=> 훈련데이터와 테스트 데이터로  input 값과 target 값으로 나눔"
   ]
  },
  {
   "cell_type": "code",
   "execution_count": 26,
   "id": "2d8cf032",
   "metadata": {},
   "outputs": [],
   "source": [
    "from sklearn.model_selection import train_test_split"
   ]
  },
  {
   "cell_type": "code",
   "execution_count": 27,
   "id": "a582c997",
   "metadata": {},
   "outputs": [],
   "source": [
    "train_input,test_input,train_target,test_target=train_test_split(loan_input,loan_target,random_state=42)"
   ]
  },
  {
   "cell_type": "markdown",
   "id": "b2386cba",
   "metadata": {},
   "source": [
    "---\n",
    "\n",
    "# DecisionTreeClassifier를 사용하여 모델링\n",
    "\n",
    "\n",
    "1. 수행 작업 \n",
    "\n",
    "1) 기본 DecisionTreeClassifier로 간단한 학습 및 평가를 수행\n",
    "2) 하이퍼파라미터 튜닝(GridSearchCV)을 통해 최적의 파라미터 탐색\n",
    "3) 최적 모델로 테스트 데이터 예측 및 성과 지표 산출\n",
    "4) 주요 성능 지표(정확도, 정밀도, 재현율, F1-score) 계산\n",
    "\n"
   ]
  },
  {
   "cell_type": "markdown",
   "id": "60356092",
   "metadata": {},
   "source": [
    "---"
   ]
  },
  {
   "cell_type": "markdown",
   "id": "3141cd8f",
   "metadata": {},
   "source": [
    "### 기본 DecisionTreeClassifier로 간단한 학습 및 평가한다.\n",
    "\n",
    "1) 기본 학습 결과\n",
    "\n",
    "train acc: 1.0\n",
    "test acc: 0.9961666666666666  \n",
    "\n",
    "=> 기본 모델로도 높은 정확도를 보였으나, 하이퍼파라미터 튜닝을 통해 추가적인 성능 향상이 기대되었음."
   ]
  },
  {
   "cell_type": "code",
   "execution_count": 28,
   "id": "fb1db268",
   "metadata": {},
   "outputs": [
    {
     "name": "stdout",
     "output_type": "stream",
     "text": [
      "1.0\n",
      "0.9961666666666666\n"
     ]
    }
   ],
   "source": [
    "from sklearn.tree import DecisionTreeClassifier \n",
    "\n",
    "dt=DecisionTreeClassifier(random_state=42)\n",
    "dt.fit(train_input,train_target)\n",
    "\n",
    "print(dt.score(train_input,train_target))\n",
    "print(dt.score(test_input,test_target))"
   ]
  },
  {
   "cell_type": "code",
   "execution_count": 29,
   "id": "3ed50ad7",
   "metadata": {},
   "outputs": [
    {
     "data": {
      "image/png": "[encoded data removed]",
      "text/plain": [
       "<Figure size 2000x700 with 1 Axes>"
      ]
     },
     "metadata": {},
     "output_type": "display_data"
    }
   ],
   "source": [
    "import matplotlib.pyplot as plt\n",
    "from sklearn.tree import plot_tree\n",
    "plt.figure(figsize=(20,7)) # 그림의 크기를 조정해준다. 가로 x 세로\n",
    "plot_tree(dt)\n",
    "plt.show()"
   ]
  },
  {
   "cell_type": "markdown",
   "id": "8aab0d80",
   "metadata": {},
   "source": [
    "---"
   ]
  },
  {
   "cell_type": "markdown",
   "id": "2431b72b",
   "metadata": {},
   "source": [
    "### 하이퍼파라미터 튜닝(GridSearchCV)을 통해 최적의 파라미터 탐색\n",
    "\n",
    "2) GridSearchCV를 통한 하이퍼파라미터 튜닝 결과\n",
    "\n",
    "* 최적 파라미터:\n",
    "    * max_depth: 14\n",
    "    * min_impurity_decrease: 0.0001\n",
    "    * min_samples_split: 2"
   ]
  },
  {
   "cell_type": "code",
   "execution_count": 32,
   "id": "bd28fdc6",
   "metadata": {},
   "outputs": [
    {
     "data": {
      "text/plain": [
       "{'max_depth': 14,\n",
       " 'min_impurity_decrease': np.float64(0.0001),\n",
       " 'min_samples_split': 2}"
      ]
     },
     "execution_count": 32,
     "metadata": {},
     "output_type": "execute_result"
    }
   ],
   "source": [
    "from sklearn.model_selection import GridSearchCV\n",
    "\n",
    "params = {\n",
    "    'min_impurity_decrease': np.arange(0.0001, 0.001, 0.0001),\n",
    "    'max_depth': range(5, 20, 1),\n",
    "    'min_samples_split': range(2, 100, 10)\n",
    "}\n",
    "\n",
    "gs = GridSearchCV(DecisionTreeClassifier(random_state=42), params, n_jobs=1)\n",
    "\n",
    "gs.fit(train_input, train_target)\n",
    "\n",
    "gs.best_params_"
   ]
  },
  {
   "cell_type": "markdown",
   "id": "696f6be9",
   "metadata": {},
   "source": [
    "---"
   ]
  },
  {
   "cell_type": "markdown",
   "id": "8cf524d6",
   "metadata": {},
   "source": [
    " ### 최적 모델로 테스트 데이터 예측 및 성과 지표 산출\n",
    "\n",
    " * 최고 교차검증 점수: 0.993888888888889"
   ]
  },
  {
   "cell_type": "code",
   "execution_count": 33,
   "id": "aa46939b",
   "metadata": {},
   "outputs": [
    {
     "name": "stdout",
     "output_type": "stream",
     "text": [
      "0.993888888888889\n"
     ]
    }
   ],
   "source": [
    "print(np.max(gs.cv_results_['mean_test_score']))"
   ]
  },
  {
   "cell_type": "markdown",
   "id": "71fad957",
   "metadata": {},
   "source": [
    "---"
   ]
  },
  {
   "cell_type": "markdown",
   "id": "eafcaf8c",
   "metadata": {},
   "source": [
    "### 주요 성능 지표(정확도, 정밀도, 재현율, F1-score) 계산\n",
    "\n",
    "3) 최적 모델의 테스트 성과  \n",
    "\n",
    "    - Accuracy: 0.9953333333333333 \n",
    "    - Precision: 0.99880810488677 \n",
    "    - Recall: 0.9956435643564356  \n",
    "    - F1 Score: 0.9972233240777469 \n",
    "\n",
    "    => 튜닝된 모델이 테스트 데이터에서도 높은 성능을 보임\n"
   ]
  },
  {
   "cell_type": "code",
   "execution_count": 34,
   "id": "c2b13cdc",
   "metadata": {},
   "outputs": [
    {
     "name": "stdout",
     "output_type": "stream",
     "text": [
      "Accuracy: 0.9953333333333333\n",
      "Precision: 0.99880810488677\n",
      "Recall: 0.9956435643564356\n",
      "F1 Score: 0.9972233240777469\n"
     ]
    }
   ],
   "source": [
    "from sklearn.metrics import accuracy_score,precision_score,recall_score,f1_score\n",
    "\n",
    "pred=gs.predict(test_input)\n",
    "\n",
    "acc=accuracy_score(test_target,pred)\n",
    "precision = precision_score(test_target, pred, pos_label=\"Rejected\")\n",
    "recall = recall_score(test_target, pred, pos_label=\"Rejected\")\n",
    "f1 = f1_score(test_target, pred, pos_label=\"Rejected\")\n",
    "\n",
    "print(\"Accuracy:\", acc)\n",
    "print(\"Precision:\",precision)\n",
    "print(\"Recall:\",recall)\n",
    "print(\"F1 Score:\",f1)\n"
   ]
  },
  {
   "cell_type": "markdown",
   "id": "9f3d86a0",
   "metadata": {},
   "source": [
    "---"
   ]
  },
  {
   "cell_type": "markdown",
   "id": "c5e05e1d",
   "metadata": {},
   "source": [
    "## 정리\n",
    "\n",
    "## 1. 성과에 영향을 미친 주요 요소 분석  \n",
    "\n",
    "\n",
    "### 1) 모델 성능 분석\n",
    "\n",
    "  **정확도(Accuracy, 99.53%)**로 대부분의 샘플을 올바르게 예측함.  \n",
    "  **정밀도(Precision, 99.8%)**와 재현율(Recall, 99.5%) 모두 높아, \"Rejected\" 샘플을 잘못 예측하거나 놓치는   경우가 매우 적었음.  \n",
    "  **F1-Score(0.99.7%)**로, Precision과 Recall 간의 균형이 매우 우수함을 확인할 수 있음.  \n",
    "  전반적으로 모델이 데이터의 패턴을 잘 학습하여 실제 업무에 적용 가능한 수준의 성능을 보임.  \n",
    "\n",
    "### 2) 중요한 영향 요소  \n",
    "\n",
    "* 하이퍼파라미터 튜닝:  \n",
    "   GridSearchCV를 통해 최적의 파라미터 조합을 찾아 모델의 일반화 성능을 극대화함.  \n",
    "* 데이터 전처리:\n",
    "   불필요한 열 제거, 범주형 변수의 이진화 등으로 데이터 품질을 향상시킴.\n",
    "* 특성 선택:\n",
    "   주요 입력 변수(소득, 신용점수, 대출금액, DTI, 고용상태)가 대출 승인 예측에 중요한 역할을 함.   \n",
    "* 클래스 불균형 대응:\n",
    "  'Rejected' 클래스에 대한 평가 지표를 집중적으로 확인하여, 실제 업무에서 중요한 거절 예측의 신뢰도를 높임.   \n",
    "\n",
    "--- \n",
    "\n",
    "### 2. 결론\n",
    "\n",
    "본 프로젝트에서는 의사결정나무 기반 분류 모델과 하이퍼파라미터 튜닝을 통해 대출 승인 예측 문제를 효과적으로 해결하였다.  \n",
    "모델은 높은 정확도와 F1-score를 기록하였으며, 특히 'Rejected' 클래스에 대한 정밀도와 재현율이 모두 높아 실제 금융 업무에 적용할 수 있는 신뢰도 높은 결과를 도출하였다.\n",
    "하이퍼파라미터 조정, 적절한 데이터 전처리, 평가 지표의 선택이 성과 향상에 중요한 역할을 했으며, 향후 추가적인 데이터 확보와 다양한 모델 비교를 통해 성능을 더욱 개선할 수 있을것이라고 판단한다.\n",
    "\n",
    "\n",
    "\n",
    "\n"
   ]
  }
 ],
 "metadata": {
  "kernelspec": {
   "display_name": "mlbasic",
   "language": "python",
   "name": "python3"
  },
  "language_info": {
   "codemirror_mode": {
    "name": "ipython",
    "version": 3
   },
   "file_extension": ".py",
   "mimetype": "text/x-python",
   "name": "python",
   "nbconvert_exporter": "python",
   "pygments_lexer": "ipython3",
   "version": "3.12.9"
  }
 },
 "nbformat": 4,
 "nbformat_minor": 5
}
