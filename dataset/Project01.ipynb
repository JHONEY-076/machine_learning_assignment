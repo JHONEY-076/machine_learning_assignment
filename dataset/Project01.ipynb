{
 "cells": [
  {
   "cell_type": "markdown",
   "id": "e4f96d39",
   "metadata": {},
   "source": [
    "# 데이터 준비"
   ]
  },
  {
   "cell_type": "code",
   "execution_count": 2,
   "id": "4f3f0cb0",
   "metadata": {},
   "outputs": [],
   "source": [
    "import pandas as pd\n",
    "\n",
    "data_url=\"C:\\\\Users\\\\채재헌\\\\machine_learning\\\\dataset\\\\loan_data.csv\"\n",
    "loan=pd.read_csv(data_url)"
   ]
  },
  {
   "cell_type": "code",
   "execution_count": 3,
   "id": "c5e0cf59",
   "metadata": {},
   "outputs": [
    {
     "data": {
      "text/html": [
       "<div>\n",
       "<style scoped>\n",
       "    .dataframe tbody tr th:only-of-type {\n",
       "        vertical-align: middle;\n",
       "    }\n",
       "\n",
       "    .dataframe tbody tr th {\n",
       "        vertical-align: top;\n",
       "    }\n",
       "\n",
       "    .dataframe thead th {\n",
       "        text-align: right;\n",
       "    }\n",
       "</style>\n",
       "<table border=\"1\" class=\"dataframe\">\n",
       "  <thead>\n",
       "    <tr style=\"text-align: right;\">\n",
       "      <th></th>\n",
       "      <th>Text</th>\n",
       "      <th>Income</th>\n",
       "      <th>Credit_Score</th>\n",
       "      <th>Loan_Amount</th>\n",
       "      <th>DTI_Ratio</th>\n",
       "      <th>Employment_Status</th>\n",
       "      <th>Approval</th>\n",
       "    </tr>\n",
       "  </thead>\n",
       "  <tbody>\n",
       "    <tr>\n",
       "      <th>0</th>\n",
       "      <td>I need a loan to pay for an international vaca...</td>\n",
       "      <td>26556</td>\n",
       "      <td>581</td>\n",
       "      <td>8314</td>\n",
       "      <td>79.26</td>\n",
       "      <td>employed</td>\n",
       "      <td>Rejected</td>\n",
       "    </tr>\n",
       "    <tr>\n",
       "      <th>1</th>\n",
       "      <td>I want to make home improvements like installi...</td>\n",
       "      <td>197392</td>\n",
       "      <td>389</td>\n",
       "      <td>111604</td>\n",
       "      <td>22.14</td>\n",
       "      <td>employed</td>\n",
       "      <td>Rejected</td>\n",
       "    </tr>\n",
       "    <tr>\n",
       "      <th>2</th>\n",
       "      <td>I need a loan for home renovation, including a...</td>\n",
       "      <td>44561</td>\n",
       "      <td>523</td>\n",
       "      <td>34118</td>\n",
       "      <td>45.44</td>\n",
       "      <td>employed</td>\n",
       "      <td>Rejected</td>\n",
       "    </tr>\n",
       "    <tr>\n",
       "      <th>3</th>\n",
       "      <td>I need funds to buy new furniture and applianc...</td>\n",
       "      <td>190363</td>\n",
       "      <td>729</td>\n",
       "      <td>118757</td>\n",
       "      <td>10.22</td>\n",
       "      <td>unemployed</td>\n",
       "      <td>Rejected</td>\n",
       "    </tr>\n",
       "    <tr>\n",
       "      <th>4</th>\n",
       "      <td>I need a loan to start a small business.</td>\n",
       "      <td>61853</td>\n",
       "      <td>732</td>\n",
       "      <td>19210</td>\n",
       "      <td>44.13</td>\n",
       "      <td>employed</td>\n",
       "      <td>Approved</td>\n",
       "    </tr>\n",
       "    <tr>\n",
       "      <th>5</th>\n",
       "      <td>I need a loan to repair my car after an accident.</td>\n",
       "      <td>108236</td>\n",
       "      <td>404</td>\n",
       "      <td>50797</td>\n",
       "      <td>10.24</td>\n",
       "      <td>employed</td>\n",
       "      <td>Rejected</td>\n",
       "    </tr>\n",
       "    <tr>\n",
       "      <th>6</th>\n",
       "      <td>I need financial help to cover maternity and d...</td>\n",
       "      <td>110165</td>\n",
       "      <td>570</td>\n",
       "      <td>61217</td>\n",
       "      <td>7.12</td>\n",
       "      <td>employed</td>\n",
       "      <td>Approved</td>\n",
       "    </tr>\n",
       "    <tr>\n",
       "      <th>7</th>\n",
       "      <td>I need money to open a small bookstore and caf챕.</td>\n",
       "      <td>40656</td>\n",
       "      <td>600</td>\n",
       "      <td>21267</td>\n",
       "      <td>113.63</td>\n",
       "      <td>unemployed</td>\n",
       "      <td>Rejected</td>\n",
       "    </tr>\n",
       "    <tr>\n",
       "      <th>8</th>\n",
       "      <td>I need a loan to install a security system at ...</td>\n",
       "      <td>38233</td>\n",
       "      <td>346</td>\n",
       "      <td>8467</td>\n",
       "      <td>126.42</td>\n",
       "      <td>unemployed</td>\n",
       "      <td>Rejected</td>\n",
       "    </tr>\n",
       "    <tr>\n",
       "      <th>9</th>\n",
       "      <td>I need a loan to cover emergency expenses afte...</td>\n",
       "      <td>81024</td>\n",
       "      <td>403</td>\n",
       "      <td>19217</td>\n",
       "      <td>36.92</td>\n",
       "      <td>unemployed</td>\n",
       "      <td>Rejected</td>\n",
       "    </tr>\n",
       "  </tbody>\n",
       "</table>\n",
       "</div>"
      ],
      "text/plain": [
       "                                                Text  Income  Credit_Score  \\\n",
       "0  I need a loan to pay for an international vaca...   26556           581   \n",
       "1  I want to make home improvements like installi...  197392           389   \n",
       "2  I need a loan for home renovation, including a...   44561           523   \n",
       "3  I need funds to buy new furniture and applianc...  190363           729   \n",
       "4           I need a loan to start a small business.   61853           732   \n",
       "5  I need a loan to repair my car after an accident.  108236           404   \n",
       "6  I need financial help to cover maternity and d...  110165           570   \n",
       "7   I need money to open a small bookstore and caf챕.   40656           600   \n",
       "8  I need a loan to install a security system at ...   38233           346   \n",
       "9  I need a loan to cover emergency expenses afte...   81024           403   \n",
       "\n",
       "   Loan_Amount  DTI_Ratio Employment_Status  Approval  \n",
       "0         8314      79.26          employed  Rejected  \n",
       "1       111604      22.14          employed  Rejected  \n",
       "2        34118      45.44          employed  Rejected  \n",
       "3       118757      10.22        unemployed  Rejected  \n",
       "4        19210      44.13          employed  Approved  \n",
       "5        50797      10.24          employed  Rejected  \n",
       "6        61217       7.12          employed  Approved  \n",
       "7        21267     113.63        unemployed  Rejected  \n",
       "8         8467     126.42        unemployed  Rejected  \n",
       "9        19217      36.92        unemployed  Rejected  "
      ]
     },
     "execution_count": 3,
     "metadata": {},
     "output_type": "execute_result"
    }
   ],
   "source": [
    "loan.head(10)"
   ]
  },
  {
   "cell_type": "code",
   "execution_count": 4,
   "id": "04a08904",
   "metadata": {},
   "outputs": [
    {
     "data": {
      "text/html": [
       "<div>\n",
       "<style scoped>\n",
       "    .dataframe tbody tr th:only-of-type {\n",
       "        vertical-align: middle;\n",
       "    }\n",
       "\n",
       "    .dataframe tbody tr th {\n",
       "        vertical-align: top;\n",
       "    }\n",
       "\n",
       "    .dataframe thead th {\n",
       "        text-align: right;\n",
       "    }\n",
       "</style>\n",
       "<table border=\"1\" class=\"dataframe\">\n",
       "  <thead>\n",
       "    <tr style=\"text-align: right;\">\n",
       "      <th></th>\n",
       "      <th>Text</th>\n",
       "      <th>Income</th>\n",
       "      <th>Credit_Score</th>\n",
       "      <th>Loan_Amount</th>\n",
       "      <th>DTI_Ratio</th>\n",
       "      <th>Employment_Status</th>\n",
       "      <th>Approval</th>\n",
       "    </tr>\n",
       "  </thead>\n",
       "  <tbody>\n",
       "    <tr>\n",
       "      <th>0</th>\n",
       "      <td>I need a loan to pay for an international vaca...</td>\n",
       "      <td>26556</td>\n",
       "      <td>581</td>\n",
       "      <td>8314</td>\n",
       "      <td>79.26</td>\n",
       "      <td>0</td>\n",
       "      <td>Rejected</td>\n",
       "    </tr>\n",
       "    <tr>\n",
       "      <th>1</th>\n",
       "      <td>I want to make home improvements like installi...</td>\n",
       "      <td>197392</td>\n",
       "      <td>389</td>\n",
       "      <td>111604</td>\n",
       "      <td>22.14</td>\n",
       "      <td>0</td>\n",
       "      <td>Rejected</td>\n",
       "    </tr>\n",
       "    <tr>\n",
       "      <th>2</th>\n",
       "      <td>I need a loan for home renovation, including a...</td>\n",
       "      <td>44561</td>\n",
       "      <td>523</td>\n",
       "      <td>34118</td>\n",
       "      <td>45.44</td>\n",
       "      <td>0</td>\n",
       "      <td>Rejected</td>\n",
       "    </tr>\n",
       "    <tr>\n",
       "      <th>3</th>\n",
       "      <td>I need funds to buy new furniture and applianc...</td>\n",
       "      <td>190363</td>\n",
       "      <td>729</td>\n",
       "      <td>118757</td>\n",
       "      <td>10.22</td>\n",
       "      <td>1</td>\n",
       "      <td>Rejected</td>\n",
       "    </tr>\n",
       "    <tr>\n",
       "      <th>4</th>\n",
       "      <td>I need a loan to start a small business.</td>\n",
       "      <td>61853</td>\n",
       "      <td>732</td>\n",
       "      <td>19210</td>\n",
       "      <td>44.13</td>\n",
       "      <td>0</td>\n",
       "      <td>Approved</td>\n",
       "    </tr>\n",
       "    <tr>\n",
       "      <th>5</th>\n",
       "      <td>I need a loan to repair my car after an accident.</td>\n",
       "      <td>108236</td>\n",
       "      <td>404</td>\n",
       "      <td>50797</td>\n",
       "      <td>10.24</td>\n",
       "      <td>0</td>\n",
       "      <td>Rejected</td>\n",
       "    </tr>\n",
       "    <tr>\n",
       "      <th>6</th>\n",
       "      <td>I need financial help to cover maternity and d...</td>\n",
       "      <td>110165</td>\n",
       "      <td>570</td>\n",
       "      <td>61217</td>\n",
       "      <td>7.12</td>\n",
       "      <td>0</td>\n",
       "      <td>Approved</td>\n",
       "    </tr>\n",
       "    <tr>\n",
       "      <th>7</th>\n",
       "      <td>I need money to open a small bookstore and caf챕.</td>\n",
       "      <td>40656</td>\n",
       "      <td>600</td>\n",
       "      <td>21267</td>\n",
       "      <td>113.63</td>\n",
       "      <td>1</td>\n",
       "      <td>Rejected</td>\n",
       "    </tr>\n",
       "    <tr>\n",
       "      <th>8</th>\n",
       "      <td>I need a loan to install a security system at ...</td>\n",
       "      <td>38233</td>\n",
       "      <td>346</td>\n",
       "      <td>8467</td>\n",
       "      <td>126.42</td>\n",
       "      <td>1</td>\n",
       "      <td>Rejected</td>\n",
       "    </tr>\n",
       "    <tr>\n",
       "      <th>9</th>\n",
       "      <td>I need a loan to cover emergency expenses afte...</td>\n",
       "      <td>81024</td>\n",
       "      <td>403</td>\n",
       "      <td>19217</td>\n",
       "      <td>36.92</td>\n",
       "      <td>1</td>\n",
       "      <td>Rejected</td>\n",
       "    </tr>\n",
       "  </tbody>\n",
       "</table>\n",
       "</div>"
      ],
      "text/plain": [
       "                                                Text  Income  Credit_Score  \\\n",
       "0  I need a loan to pay for an international vaca...   26556           581   \n",
       "1  I want to make home improvements like installi...  197392           389   \n",
       "2  I need a loan for home renovation, including a...   44561           523   \n",
       "3  I need funds to buy new furniture and applianc...  190363           729   \n",
       "4           I need a loan to start a small business.   61853           732   \n",
       "5  I need a loan to repair my car after an accident.  108236           404   \n",
       "6  I need financial help to cover maternity and d...  110165           570   \n",
       "7   I need money to open a small bookstore and caf챕.   40656           600   \n",
       "8  I need a loan to install a security system at ...   38233           346   \n",
       "9  I need a loan to cover emergency expenses afte...   81024           403   \n",
       "\n",
       "   Loan_Amount  DTI_Ratio  Employment_Status  Approval  \n",
       "0         8314      79.26                  0  Rejected  \n",
       "1       111604      22.14                  0  Rejected  \n",
       "2        34118      45.44                  0  Rejected  \n",
       "3       118757      10.22                  1  Rejected  \n",
       "4        19210      44.13                  0  Approved  \n",
       "5        50797      10.24                  0  Rejected  \n",
       "6        61217       7.12                  0  Approved  \n",
       "7        21267     113.63                  1  Rejected  \n",
       "8         8467     126.42                  1  Rejected  \n",
       "9        19217      36.92                  1  Rejected  "
      ]
     },
     "execution_count": 4,
     "metadata": {},
     "output_type": "execute_result"
    }
   ],
   "source": [
    "# - one-Hot Encoding으로 수치 유형으로 변환  \n",
    "# 타겟 열 Employment_Status을 이진 값으로 변환\n",
    "loan[\"Employment_Status\"]=loan[\"Employment_Status\"].map({\"employed\":0,\"unemployed\":1})\n",
    "\n",
    "# 결과 확인\n",
    "loan.head(10)"
   ]
  },
  {
   "cell_type": "code",
   "execution_count": 5,
   "id": "26e87b5b",
   "metadata": {},
   "outputs": [],
   "source": [
    "loan_target=loan[\"Approval\"] \n",
    "loan_input=loan[[\"Income\",\"Credit_Score\",\"Loan_Amount\",\"DTI_Ratio\",\"Employment_Status\"]]"
   ]
  },
  {
   "cell_type": "code",
   "execution_count": 6,
   "id": "d9f493bb",
   "metadata": {},
   "outputs": [
    {
     "data": {
      "text/plain": [
       "0    Rejected\n",
       "1    Rejected\n",
       "2    Rejected\n",
       "3    Rejected\n",
       "4    Approved\n",
       "Name: Approval, dtype: object"
      ]
     },
     "execution_count": 6,
     "metadata": {},
     "output_type": "execute_result"
    }
   ],
   "source": [
    "loan_target[:5]"
   ]
  },
  {
   "cell_type": "code",
   "execution_count": 7,
   "id": "4557e5ba",
   "metadata": {},
   "outputs": [
    {
     "data": {
      "text/plain": [
       "pandas.core.frame.DataFrame"
      ]
     },
     "execution_count": 7,
     "metadata": {},
     "output_type": "execute_result"
    }
   ],
   "source": [
    "type(loan_input)"
   ]
  },
  {
   "cell_type": "code",
   "execution_count": 8,
   "id": "a6d3e6ff",
   "metadata": {},
   "outputs": [],
   "source": [
    "loan_target=loan_target.to_numpy()\n",
    "loan_input=loan_input.to_numpy()"
   ]
  },
  {
   "cell_type": "code",
   "execution_count": 9,
   "id": "60cb8599",
   "metadata": {},
   "outputs": [
    {
     "data": {
      "text/plain": [
       "numpy.ndarray"
      ]
     },
     "execution_count": 9,
     "metadata": {},
     "output_type": "execute_result"
    }
   ],
   "source": [
    "type(loan_input)"
   ]
  },
  {
   "cell_type": "code",
   "execution_count": 10,
   "id": "6bc95804",
   "metadata": {},
   "outputs": [
    {
     "data": {
      "text/plain": [
       "numpy.ndarray"
      ]
     },
     "execution_count": 10,
     "metadata": {},
     "output_type": "execute_result"
    }
   ],
   "source": [
    "type(loan_target)"
   ]
  },
  {
   "cell_type": "markdown",
   "id": "ccc752f5",
   "metadata": {},
   "source": [
    "# 데이터 분할"
   ]
  },
  {
   "cell_type": "code",
   "execution_count": 11,
   "id": "2d8cf032",
   "metadata": {},
   "outputs": [],
   "source": [
    "from sklearn.model_selection import train_test_split"
   ]
  },
  {
   "cell_type": "code",
   "execution_count": 12,
   "id": "a582c997",
   "metadata": {},
   "outputs": [],
   "source": [
    "train_input,test_input,train_target,test_target=train_test_split(loan_input,loan_target,random_state=42)"
   ]
  },
  {
   "cell_type": "markdown",
   "id": "f1d84e54",
   "metadata": {},
   "source": [
    "# 데이터 스케일링"
   ]
  },
  {
   "cell_type": "code",
   "execution_count": 13,
   "id": "faf251f1",
   "metadata": {},
   "outputs": [],
   "source": [
    "from sklearn.preprocessing import StandardScaler\n",
    "\n",
    "ss=StandardScaler()\n",
    "\n",
    "ss.fit(train_input)\n",
    "\n",
    "train_scaled=ss.transform(train_input)\n",
    "test_scaled=ss.transform(test_input)"
   ]
  },
  {
   "cell_type": "code",
   "execution_count": 14,
   "id": "e260aa22",
   "metadata": {},
   "outputs": [
    {
     "data": {
      "text/plain": [
       "array([[ 0.44466921,  0.93752667,  0.33114045, -0.01307517,  1.00144549],\n",
       "       [ 0.31674229, -1.64311454,  0.84467927, -0.08792399,  1.00144549],\n",
       "       [-0.54148815,  1.68654205,  0.58012984, -0.44948707,  1.00144549],\n",
       "       [ 0.45337435,  1.01935188,  1.41887636, -0.72166458, -0.9985566 ],\n",
       "       [ 0.90542279,  0.02486088,  1.90466021, -0.50515974,  1.00144549]])"
      ]
     },
     "execution_count": 14,
     "metadata": {},
     "output_type": "execute_result"
    }
   ],
   "source": [
    "train_scaled[:5]"
   ]
  },
  {
   "cell_type": "markdown",
   "id": "b2386cba",
   "metadata": {},
   "source": [
    "# KNeighborsClassifier를 사용하여 모델링"
   ]
  },
  {
   "cell_type": "code",
   "execution_count": 15,
   "id": "fb1db268",
   "metadata": {},
   "outputs": [
    {
     "name": "stdout",
     "output_type": "stream",
     "text": [
      "0.9895\n",
      "0.9895\n"
     ]
    }
   ],
   "source": [
    "# KNN class 가져오기 \n",
    "from sklearn.neighbors import KNeighborsClassifier\n",
    "\n",
    "#KNeighborsClassifier 초기화 \n",
    "knn=KNeighborsClassifier(n_neighbors=30)\n",
    "\n",
    "\n",
    "\n",
    "#KNN 모델 생성 \n",
    "knn.fit(train_scaled,train_target)\n",
    "\n",
    "\n",
    "print(knn.score(train_scaled,train_target))\n",
    "print(knn.score(test_scaled,test_target))\n"
   ]
  },
  {
   "cell_type": "code",
   "execution_count": 16,
   "id": "75195265",
   "metadata": {},
   "outputs": [],
   "source": [
    "import matplotlib.pyplot as plt\n",
    "\n",
    "train_score=[]\n",
    "test_score=[]\n"
   ]
  },
  {
   "cell_type": "code",
   "execution_count": 17,
   "id": "b4a70660",
   "metadata": {},
   "outputs": [],
   "source": [
    "k_list=[10,20,30,40,50,60,70,100]\n",
    "for k in k_list:\n",
    "    knn=KNeighborsClassifier(n_neighbors=k)\n",
    "    knn.fit(train_scaled,train_target)\n",
    "    train_score.append(knn.score(train_scaled,train_target))\n",
    "    test_score.append(knn.score(test_scaled,test_target))"
   ]
  },
  {
   "cell_type": "code",
   "execution_count": 18,
   "id": "e3ffba88",
   "metadata": {},
   "outputs": [
    {
     "data": {
      "image/png": "[encoded data removed]",
      "text/plain": [
       "<Figure size 640x480 with 1 Axes>"
      ]
     },
     "metadata": {},
     "output_type": "display_data"
    }
   ],
   "source": [
    "plt.plot(k_list,train_score,label=\"train_score\")\n",
    "plt.plot(k_list,test_score,label=\"test_score\")\n",
    "plt.xlabel('k')\n",
    "plt.ylabel('score')\n",
    "plt.legend()\n",
    "plt.show()"
   ]
  },
  {
   "cell_type": "code",
   "execution_count": 20,
   "id": "c31ef275",
   "metadata": {},
   "outputs": [
    {
     "name": "stdout",
     "output_type": "stream",
     "text": [
      "Accuracy: 0.9846666666666667\n",
      "Precision: 0.9920603414053196\n",
      "Recall: 0.9897029702970297\n",
      "F1 Score: 0.9908802537668517\n"
     ]
    }
   ],
   "source": [
    "from sklearn.metrics import accuracy_score,precision_score,recall_score,f1_score\n",
    "\n",
    "pred=knn.predict(test_scaled)\n",
    "\n",
    "acc=accuracy_score(test_target,pred)\n",
    "precision = precision_score(test_target, pred, pos_label=\"Rejected\")\n",
    "recall = recall_score(test_target, pred, pos_label=\"Rejected\")\n",
    "f1 = f1_score(test_target, pred, pos_label=\"Rejected\")\n",
    "\n",
    "print(\"Accuracy:\", acc)\n",
    "print(\"Precision:\",precision)\n",
    "print(\"Recall:\",recall)\n",
    "print(\"F1 Score:\",f1)\n"
   ]
  }
 ],
 "metadata": {
  "kernelspec": {
   "display_name": "mlbasic",
   "language": "python",
   "name": "python3"
  },
  "language_info": {
   "codemirror_mode": {
    "name": "ipython",
    "version": 3
   },
   "file_extension": ".py",
   "mimetype": "text/x-python",
   "name": "python",
   "nbconvert_exporter": "python",
   "pygments_lexer": "ipython3",
   "version": "3.12.9"
  }
 },
 "nbformat": 4,
 "nbformat_minor": 5
}
