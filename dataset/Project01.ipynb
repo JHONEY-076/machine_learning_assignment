{
 "cells": [
  {
   "cell_type": "code",
   "execution_count": 121,
   "id": "4f3f0cb0",
   "metadata": {},
   "outputs": [],
   "source": [
    "import pandas as pd\n",
    "\n",
    "data_url=\"C:\\\\Users\\\\채재헌\\\\machine_learning\\\\dataset\\\\loan_data.csv\"\n",
    "loan=pd.read_csv(data_url)"
   ]
  },
  {
   "cell_type": "code",
   "execution_count": 122,
   "id": "c5e0cf59",
   "metadata": {},
   "outputs": [
    {
     "data": {
      "text/html": [
       "<div>\n",
       "<style scoped>\n",
       "    .dataframe tbody tr th:only-of-type {\n",
       "        vertical-align: middle;\n",
       "    }\n",
       "\n",
       "    .dataframe tbody tr th {\n",
       "        vertical-align: top;\n",
       "    }\n",
       "\n",
       "    .dataframe thead th {\n",
       "        text-align: right;\n",
       "    }\n",
       "</style>\n",
       "<table border=\"1\" class=\"dataframe\">\n",
       "  <thead>\n",
       "    <tr style=\"text-align: right;\">\n",
       "      <th></th>\n",
       "      <th>Text</th>\n",
       "      <th>Income</th>\n",
       "      <th>Credit_Score</th>\n",
       "      <th>Loan_Amount</th>\n",
       "      <th>DTI_Ratio</th>\n",
       "      <th>Employment_Status</th>\n",
       "      <th>Approval</th>\n",
       "    </tr>\n",
       "  </thead>\n",
       "  <tbody>\n",
       "    <tr>\n",
       "      <th>0</th>\n",
       "      <td>I need a loan to pay for an international vaca...</td>\n",
       "      <td>26556</td>\n",
       "      <td>581</td>\n",
       "      <td>8314</td>\n",
       "      <td>79.26</td>\n",
       "      <td>employed</td>\n",
       "      <td>Rejected</td>\n",
       "    </tr>\n",
       "    <tr>\n",
       "      <th>1</th>\n",
       "      <td>I want to make home improvements like installi...</td>\n",
       "      <td>197392</td>\n",
       "      <td>389</td>\n",
       "      <td>111604</td>\n",
       "      <td>22.14</td>\n",
       "      <td>employed</td>\n",
       "      <td>Rejected</td>\n",
       "    </tr>\n",
       "    <tr>\n",
       "      <th>2</th>\n",
       "      <td>I need a loan for home renovation, including a...</td>\n",
       "      <td>44561</td>\n",
       "      <td>523</td>\n",
       "      <td>34118</td>\n",
       "      <td>45.44</td>\n",
       "      <td>employed</td>\n",
       "      <td>Rejected</td>\n",
       "    </tr>\n",
       "    <tr>\n",
       "      <th>3</th>\n",
       "      <td>I need funds to buy new furniture and applianc...</td>\n",
       "      <td>190363</td>\n",
       "      <td>729</td>\n",
       "      <td>118757</td>\n",
       "      <td>10.22</td>\n",
       "      <td>unemployed</td>\n",
       "      <td>Rejected</td>\n",
       "    </tr>\n",
       "    <tr>\n",
       "      <th>4</th>\n",
       "      <td>I need a loan to start a small business.</td>\n",
       "      <td>61853</td>\n",
       "      <td>732</td>\n",
       "      <td>19210</td>\n",
       "      <td>44.13</td>\n",
       "      <td>employed</td>\n",
       "      <td>Approved</td>\n",
       "    </tr>\n",
       "    <tr>\n",
       "      <th>5</th>\n",
       "      <td>I need a loan to repair my car after an accident.</td>\n",
       "      <td>108236</td>\n",
       "      <td>404</td>\n",
       "      <td>50797</td>\n",
       "      <td>10.24</td>\n",
       "      <td>employed</td>\n",
       "      <td>Rejected</td>\n",
       "    </tr>\n",
       "    <tr>\n",
       "      <th>6</th>\n",
       "      <td>I need financial help to cover maternity and d...</td>\n",
       "      <td>110165</td>\n",
       "      <td>570</td>\n",
       "      <td>61217</td>\n",
       "      <td>7.12</td>\n",
       "      <td>employed</td>\n",
       "      <td>Approved</td>\n",
       "    </tr>\n",
       "    <tr>\n",
       "      <th>7</th>\n",
       "      <td>I need money to open a small bookstore and caf챕.</td>\n",
       "      <td>40656</td>\n",
       "      <td>600</td>\n",
       "      <td>21267</td>\n",
       "      <td>113.63</td>\n",
       "      <td>unemployed</td>\n",
       "      <td>Rejected</td>\n",
       "    </tr>\n",
       "    <tr>\n",
       "      <th>8</th>\n",
       "      <td>I need a loan to install a security system at ...</td>\n",
       "      <td>38233</td>\n",
       "      <td>346</td>\n",
       "      <td>8467</td>\n",
       "      <td>126.42</td>\n",
       "      <td>unemployed</td>\n",
       "      <td>Rejected</td>\n",
       "    </tr>\n",
       "    <tr>\n",
       "      <th>9</th>\n",
       "      <td>I need a loan to cover emergency expenses afte...</td>\n",
       "      <td>81024</td>\n",
       "      <td>403</td>\n",
       "      <td>19217</td>\n",
       "      <td>36.92</td>\n",
       "      <td>unemployed</td>\n",
       "      <td>Rejected</td>\n",
       "    </tr>\n",
       "  </tbody>\n",
       "</table>\n",
       "</div>"
      ],
      "text/plain": [
       "                                                Text  Income  Credit_Score  \\\n",
       "0  I need a loan to pay for an international vaca...   26556           581   \n",
       "1  I want to make home improvements like installi...  197392           389   \n",
       "2  I need a loan for home renovation, including a...   44561           523   \n",
       "3  I need funds to buy new furniture and applianc...  190363           729   \n",
       "4           I need a loan to start a small business.   61853           732   \n",
       "5  I need a loan to repair my car after an accident.  108236           404   \n",
       "6  I need financial help to cover maternity and d...  110165           570   \n",
       "7   I need money to open a small bookstore and caf챕.   40656           600   \n",
       "8  I need a loan to install a security system at ...   38233           346   \n",
       "9  I need a loan to cover emergency expenses afte...   81024           403   \n",
       "\n",
       "   Loan_Amount  DTI_Ratio Employment_Status  Approval  \n",
       "0         8314      79.26          employed  Rejected  \n",
       "1       111604      22.14          employed  Rejected  \n",
       "2        34118      45.44          employed  Rejected  \n",
       "3       118757      10.22        unemployed  Rejected  \n",
       "4        19210      44.13          employed  Approved  \n",
       "5        50797      10.24          employed  Rejected  \n",
       "6        61217       7.12          employed  Approved  \n",
       "7        21267     113.63        unemployed  Rejected  \n",
       "8         8467     126.42        unemployed  Rejected  \n",
       "9        19217      36.92        unemployed  Rejected  "
      ]
     },
     "execution_count": 122,
     "metadata": {},
     "output_type": "execute_result"
    }
   ],
   "source": [
    "loan.head(10)"
   ]
  },
  {
   "cell_type": "code",
   "execution_count": 123,
   "id": "04a08904",
   "metadata": {},
   "outputs": [
    {
     "data": {
      "text/html": [
       "<div>\n",
       "<style scoped>\n",
       "    .dataframe tbody tr th:only-of-type {\n",
       "        vertical-align: middle;\n",
       "    }\n",
       "\n",
       "    .dataframe tbody tr th {\n",
       "        vertical-align: top;\n",
       "    }\n",
       "\n",
       "    .dataframe thead th {\n",
       "        text-align: right;\n",
       "    }\n",
       "</style>\n",
       "<table border=\"1\" class=\"dataframe\">\n",
       "  <thead>\n",
       "    <tr style=\"text-align: right;\">\n",
       "      <th></th>\n",
       "      <th>Text</th>\n",
       "      <th>Income</th>\n",
       "      <th>Credit_Score</th>\n",
       "      <th>Loan_Amount</th>\n",
       "      <th>DTI_Ratio</th>\n",
       "      <th>Employment_Status</th>\n",
       "      <th>Approval</th>\n",
       "    </tr>\n",
       "  </thead>\n",
       "  <tbody>\n",
       "    <tr>\n",
       "      <th>0</th>\n",
       "      <td>I need a loan to pay for an international vaca...</td>\n",
       "      <td>26556</td>\n",
       "      <td>581</td>\n",
       "      <td>8314</td>\n",
       "      <td>79.26</td>\n",
       "      <td>0</td>\n",
       "      <td>Rejected</td>\n",
       "    </tr>\n",
       "    <tr>\n",
       "      <th>1</th>\n",
       "      <td>I want to make home improvements like installi...</td>\n",
       "      <td>197392</td>\n",
       "      <td>389</td>\n",
       "      <td>111604</td>\n",
       "      <td>22.14</td>\n",
       "      <td>0</td>\n",
       "      <td>Rejected</td>\n",
       "    </tr>\n",
       "    <tr>\n",
       "      <th>2</th>\n",
       "      <td>I need a loan for home renovation, including a...</td>\n",
       "      <td>44561</td>\n",
       "      <td>523</td>\n",
       "      <td>34118</td>\n",
       "      <td>45.44</td>\n",
       "      <td>0</td>\n",
       "      <td>Rejected</td>\n",
       "    </tr>\n",
       "    <tr>\n",
       "      <th>3</th>\n",
       "      <td>I need funds to buy new furniture and applianc...</td>\n",
       "      <td>190363</td>\n",
       "      <td>729</td>\n",
       "      <td>118757</td>\n",
       "      <td>10.22</td>\n",
       "      <td>1</td>\n",
       "      <td>Rejected</td>\n",
       "    </tr>\n",
       "    <tr>\n",
       "      <th>4</th>\n",
       "      <td>I need a loan to start a small business.</td>\n",
       "      <td>61853</td>\n",
       "      <td>732</td>\n",
       "      <td>19210</td>\n",
       "      <td>44.13</td>\n",
       "      <td>0</td>\n",
       "      <td>Approved</td>\n",
       "    </tr>\n",
       "    <tr>\n",
       "      <th>5</th>\n",
       "      <td>I need a loan to repair my car after an accident.</td>\n",
       "      <td>108236</td>\n",
       "      <td>404</td>\n",
       "      <td>50797</td>\n",
       "      <td>10.24</td>\n",
       "      <td>0</td>\n",
       "      <td>Rejected</td>\n",
       "    </tr>\n",
       "    <tr>\n",
       "      <th>6</th>\n",
       "      <td>I need financial help to cover maternity and d...</td>\n",
       "      <td>110165</td>\n",
       "      <td>570</td>\n",
       "      <td>61217</td>\n",
       "      <td>7.12</td>\n",
       "      <td>0</td>\n",
       "      <td>Approved</td>\n",
       "    </tr>\n",
       "    <tr>\n",
       "      <th>7</th>\n",
       "      <td>I need money to open a small bookstore and caf챕.</td>\n",
       "      <td>40656</td>\n",
       "      <td>600</td>\n",
       "      <td>21267</td>\n",
       "      <td>113.63</td>\n",
       "      <td>1</td>\n",
       "      <td>Rejected</td>\n",
       "    </tr>\n",
       "    <tr>\n",
       "      <th>8</th>\n",
       "      <td>I need a loan to install a security system at ...</td>\n",
       "      <td>38233</td>\n",
       "      <td>346</td>\n",
       "      <td>8467</td>\n",
       "      <td>126.42</td>\n",
       "      <td>1</td>\n",
       "      <td>Rejected</td>\n",
       "    </tr>\n",
       "    <tr>\n",
       "      <th>9</th>\n",
       "      <td>I need a loan to cover emergency expenses afte...</td>\n",
       "      <td>81024</td>\n",
       "      <td>403</td>\n",
       "      <td>19217</td>\n",
       "      <td>36.92</td>\n",
       "      <td>1</td>\n",
       "      <td>Rejected</td>\n",
       "    </tr>\n",
       "  </tbody>\n",
       "</table>\n",
       "</div>"
      ],
      "text/plain": [
       "                                                Text  Income  Credit_Score  \\\n",
       "0  I need a loan to pay for an international vaca...   26556           581   \n",
       "1  I want to make home improvements like installi...  197392           389   \n",
       "2  I need a loan for home renovation, including a...   44561           523   \n",
       "3  I need funds to buy new furniture and applianc...  190363           729   \n",
       "4           I need a loan to start a small business.   61853           732   \n",
       "5  I need a loan to repair my car after an accident.  108236           404   \n",
       "6  I need financial help to cover maternity and d...  110165           570   \n",
       "7   I need money to open a small bookstore and caf챕.   40656           600   \n",
       "8  I need a loan to install a security system at ...   38233           346   \n",
       "9  I need a loan to cover emergency expenses afte...   81024           403   \n",
       "\n",
       "   Loan_Amount  DTI_Ratio  Employment_Status  Approval  \n",
       "0         8314      79.26                  0  Rejected  \n",
       "1       111604      22.14                  0  Rejected  \n",
       "2        34118      45.44                  0  Rejected  \n",
       "3       118757      10.22                  1  Rejected  \n",
       "4        19210      44.13                  0  Approved  \n",
       "5        50797      10.24                  0  Rejected  \n",
       "6        61217       7.12                  0  Approved  \n",
       "7        21267     113.63                  1  Rejected  \n",
       "8         8467     126.42                  1  Rejected  \n",
       "9        19217      36.92                  1  Rejected  "
      ]
     },
     "execution_count": 123,
     "metadata": {},
     "output_type": "execute_result"
    }
   ],
   "source": [
    "# 타겟 열 Employment_Status을 이진 값으로 변환\n",
    "loan[\"Employment_Status\"]=loan[\"Employment_Status\"].map({\"employed\":0,\"unemployed\":1})\n",
    "\n",
    "# 결과 확인\n",
    "loan.head(10)"
   ]
  },
  {
   "cell_type": "code",
   "execution_count": 124,
   "id": "26e87b5b",
   "metadata": {},
   "outputs": [],
   "source": [
    "loan_target=loan[\"Approval\"]\n",
    "loan_input=loan[[\"Income\",\"Credit_Score\",\"Loan_Amount\",\"DTI_Ratio\",\"Employment_Status\"]]"
   ]
  },
  {
   "cell_type": "code",
   "execution_count": 125,
   "id": "d9f493bb",
   "metadata": {},
   "outputs": [
    {
     "data": {
      "text/plain": [
       "0    Rejected\n",
       "1    Rejected\n",
       "2    Rejected\n",
       "3    Rejected\n",
       "4    Approved\n",
       "Name: Approval, dtype: object"
      ]
     },
     "execution_count": 125,
     "metadata": {},
     "output_type": "execute_result"
    }
   ],
   "source": [
    "loan_target[:5]"
   ]
  },
  {
   "cell_type": "code",
   "execution_count": 126,
   "id": "4557e5ba",
   "metadata": {},
   "outputs": [
    {
     "data": {
      "text/plain": [
       "pandas.core.frame.DataFrame"
      ]
     },
     "execution_count": 126,
     "metadata": {},
     "output_type": "execute_result"
    }
   ],
   "source": [
    "type(loan_input)"
   ]
  },
  {
   "cell_type": "code",
   "execution_count": 127,
   "id": "a6d3e6ff",
   "metadata": {},
   "outputs": [],
   "source": [
    "loan_target=loan_target.to_numpy()\n",
    "loan_input=loan_input.to_numpy()"
   ]
  },
  {
   "cell_type": "code",
   "execution_count": 131,
   "id": "60cb8599",
   "metadata": {},
   "outputs": [
    {
     "data": {
      "text/plain": [
       "numpy.ndarray"
      ]
     },
     "execution_count": 131,
     "metadata": {},
     "output_type": "execute_result"
    }
   ],
   "source": [
    "type(loan_input)"
   ]
  },
  {
   "cell_type": "code",
   "execution_count": 132,
   "id": "6bc95804",
   "metadata": {},
   "outputs": [
    {
     "data": {
      "text/plain": [
       "numpy.ndarray"
      ]
     },
     "execution_count": 132,
     "metadata": {},
     "output_type": "execute_result"
    }
   ],
   "source": [
    "type(loan_target)"
   ]
  },
  {
   "cell_type": "code",
   "execution_count": 129,
   "id": "2d8cf032",
   "metadata": {},
   "outputs": [],
   "source": [
    "from sklearn.model_selection import train_test_split"
   ]
  },
  {
   "cell_type": "code",
   "execution_count": 134,
   "id": "a582c997",
   "metadata": {},
   "outputs": [],
   "source": [
    "train_input,test_input,train_target,test_target=train_test_split(loan_input,loan_target)"
   ]
  },
  {
   "cell_type": "code",
   "execution_count": 136,
   "id": "faf251f1",
   "metadata": {},
   "outputs": [],
   "source": [
    "from sklearn.preprocessing import StandardScaler\n",
    "\n",
    "ss=StandardScaler()\n",
    "\n",
    "ss.fit(train_input)\n",
    "\n",
    "train_scaled=ss.transform(train_input)\n",
    "test_scaled=ss.transform(test_input)"
   ]
  },
  {
   "cell_type": "code",
   "execution_count": 137,
   "id": "e260aa22",
   "metadata": {},
   "outputs": [
    {
     "data": {
      "text/plain": [
       "array([[ 0.17273583, -1.34787902,  0.41787351, -0.06869232, -0.99911151],\n",
       "       [-0.7145193 ,  0.51052356,  0.06958621,  0.31425184,  1.00088928],\n",
       "       [ 0.88465976,  1.16347582,  1.96988911, -0.89270609,  1.00088928],\n",
       "       [-0.12260971,  1.21370292, -0.43248467,  0.12961805,  1.00088928],\n",
       "       [-0.50083381,  0.51052356, -0.80936273, -0.88928695, -0.99911151]])"
      ]
     },
     "execution_count": 137,
     "metadata": {},
     "output_type": "execute_result"
    }
   ],
   "source": [
    "train_scaled[:5]"
   ]
  }
 ],
 "metadata": {
  "kernelspec": {
   "display_name": "mlbasic",
   "language": "python",
   "name": "python3"
  },
  "language_info": {
   "codemirror_mode": {
    "name": "ipython",
    "version": 3
   },
   "file_extension": ".py",
   "mimetype": "text/x-python",
   "name": "python",
   "nbconvert_exporter": "python",
   "pygments_lexer": "ipython3",
   "version": "3.12.9"
  }
 },
 "nbformat": 4,
 "nbformat_minor": 5
}
